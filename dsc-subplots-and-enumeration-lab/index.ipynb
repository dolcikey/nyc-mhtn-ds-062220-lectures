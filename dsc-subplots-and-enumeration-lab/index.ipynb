{
 "cells": [
  {
   "cell_type": "markdown",
   "metadata": {},
   "source": [
    "# Subplots and Enumeration - Lab\n",
    "\n",
    "## Introduction\n",
    "\n",
    "In this lab, we'll get some practice creating **_subplots_** and explore how we can use the `enumerate` keyword to make creating them a bit easier!\n",
    "\n",
    "## Objectives\n",
    "\n",
    "You will be able to:\n",
    "\n",
    "* Create subplots using a Matplotlib figure\n",
    "* Use the enumerate function in a for loop to track the index while iterating over a collection\n",
    "\n",
    "## Getting Started\n",
    "\n",
    "For this lab, we'll explore a dataset containing yearly population data about different countries and regions around the globe. Let's start by importing the dataset so we can get to work.\n",
    "\n",
    "In the cell below: \n",
    "\n",
    "* Import `pandas` and set the standard alias of `pd` \n",
    "* Import the `pyplot` module from `matplotlib` and set the standard alias of `plt` \n",
    "* Set matplotlib visualizations to appear inline with the command `%matplotlib inline` "
   ]
  },
  {
   "cell_type": "code",
   "execution_count": 154,
   "metadata": {},
   "outputs": [],
   "source": [
    "# Import pandas\n",
    "# Import matplotlib\n",
    "# Make sure matplotlib plots appear inline\n",
    "\n",
    "import pandas as pd\n",
    "import matplotlib as plt\n",
    "%matplotlib inline"
   ]
  },
  {
   "cell_type": "markdown",
   "metadata": {},
   "source": [
    "Now, let's import the dataset. \n",
    "\n",
    "In the cell below:\n",
    "\n",
    "* Use `pandas` to read in the data stored in the file `'population.csv'` \n",
    "* Print the first five rows of the DataFrame to ensure everything loaded correctly and get a feel for what this dataset contains "
   ]
  },
  {
   "cell_type": "code",
   "execution_count": 155,
   "metadata": {},
   "outputs": [
    {
     "data": {
      "text/html": [
       "<div>\n",
       "<style scoped>\n",
       "    .dataframe tbody tr th:only-of-type {\n",
       "        vertical-align: middle;\n",
       "    }\n",
       "\n",
       "    .dataframe tbody tr th {\n",
       "        vertical-align: top;\n",
       "    }\n",
       "\n",
       "    .dataframe thead th {\n",
       "        text-align: right;\n",
       "    }\n",
       "</style>\n",
       "<table border=\"1\" class=\"dataframe\">\n",
       "  <thead>\n",
       "    <tr style=\"text-align: right;\">\n",
       "      <th></th>\n",
       "      <th>Country Name</th>\n",
       "      <th>Country Code</th>\n",
       "      <th>Year</th>\n",
       "      <th>Value</th>\n",
       "    </tr>\n",
       "  </thead>\n",
       "  <tbody>\n",
       "    <tr>\n",
       "      <th>115</th>\n",
       "      <td>Central Europe and the Baltics</td>\n",
       "      <td>CEB</td>\n",
       "      <td>1961</td>\n",
       "      <td>92237118.0</td>\n",
       "    </tr>\n",
       "    <tr>\n",
       "      <th>116</th>\n",
       "      <td>Central Europe and the Baltics</td>\n",
       "      <td>CEB</td>\n",
       "      <td>1962</td>\n",
       "      <td>93014890.0</td>\n",
       "    </tr>\n",
       "    <tr>\n",
       "      <th>117</th>\n",
       "      <td>Central Europe and the Baltics</td>\n",
       "      <td>CEB</td>\n",
       "      <td>1963</td>\n",
       "      <td>93845749.0</td>\n",
       "    </tr>\n",
       "    <tr>\n",
       "      <th>118</th>\n",
       "      <td>Central Europe and the Baltics</td>\n",
       "      <td>CEB</td>\n",
       "      <td>1964</td>\n",
       "      <td>94722599.0</td>\n",
       "    </tr>\n",
       "    <tr>\n",
       "      <th>119</th>\n",
       "      <td>Central Europe and the Baltics</td>\n",
       "      <td>CEB</td>\n",
       "      <td>1965</td>\n",
       "      <td>95447065.0</td>\n",
       "    </tr>\n",
       "    <tr>\n",
       "      <th>...</th>\n",
       "      <td>...</td>\n",
       "      <td>...</td>\n",
       "      <td>...</td>\n",
       "      <td>...</td>\n",
       "    </tr>\n",
       "    <tr>\n",
       "      <th>14880</th>\n",
       "      <td>Zimbabwe</td>\n",
       "      <td>ZWE</td>\n",
       "      <td>2012</td>\n",
       "      <td>14710826.0</td>\n",
       "    </tr>\n",
       "    <tr>\n",
       "      <th>14881</th>\n",
       "      <td>Zimbabwe</td>\n",
       "      <td>ZWE</td>\n",
       "      <td>2013</td>\n",
       "      <td>15054506.0</td>\n",
       "    </tr>\n",
       "    <tr>\n",
       "      <th>14882</th>\n",
       "      <td>Zimbabwe</td>\n",
       "      <td>ZWE</td>\n",
       "      <td>2014</td>\n",
       "      <td>15411675.0</td>\n",
       "    </tr>\n",
       "    <tr>\n",
       "      <th>14883</th>\n",
       "      <td>Zimbabwe</td>\n",
       "      <td>ZWE</td>\n",
       "      <td>2015</td>\n",
       "      <td>15777451.0</td>\n",
       "    </tr>\n",
       "    <tr>\n",
       "      <th>14884</th>\n",
       "      <td>Zimbabwe</td>\n",
       "      <td>ZWE</td>\n",
       "      <td>2016</td>\n",
       "      <td>16150362.0</td>\n",
       "    </tr>\n",
       "  </tbody>\n",
       "</table>\n",
       "<p>14770 rows × 4 columns</p>\n",
       "</div>"
      ],
      "text/plain": [
       "                         Country Name Country Code  Year       Value\n",
       "115    Central Europe and the Baltics          CEB  1961  92237118.0\n",
       "116    Central Europe and the Baltics          CEB  1962  93014890.0\n",
       "117    Central Europe and the Baltics          CEB  1963  93845749.0\n",
       "118    Central Europe and the Baltics          CEB  1964  94722599.0\n",
       "119    Central Europe and the Baltics          CEB  1965  95447065.0\n",
       "...                               ...          ...   ...         ...\n",
       "14880                        Zimbabwe          ZWE  2012  14710826.0\n",
       "14881                        Zimbabwe          ZWE  2013  15054506.0\n",
       "14882                        Zimbabwe          ZWE  2014  15411675.0\n",
       "14883                        Zimbabwe          ZWE  2015  15777451.0\n",
       "14884                        Zimbabwe          ZWE  2016  16150362.0\n",
       "\n",
       "[14770 rows x 4 columns]"
      ]
     },
     "execution_count": 155,
     "metadata": {},
     "output_type": "execute_result"
    }
   ],
   "source": [
    "# Import the file\n",
    "df = pd.read_csv('population.csv')\n",
    "# Print the first five rows \n",
    "\n",
    "df.head()\n",
    "df.loc[115:]"
   ]
  },
  {
   "cell_type": "markdown",
   "metadata": {},
   "source": [
    "Our columns look fairly standard. Let's take a look at the `value_counts()` of the `'Country Name'` column to get a feel for how many years there are per country. \n",
    "\n",
    "Do this now in the cell below. "
   ]
  },
  {
   "cell_type": "code",
   "execution_count": 156,
   "metadata": {},
   "outputs": [
    {
     "data": {
      "text/plain": [
       "Guam                                             57\n",
       "Europe & Central Asia (excluding high income)    57\n",
       "Costa Rica                                       57\n",
       "Luxembourg                                       57\n",
       "Lao PDR                                          57\n",
       "                                                 ..\n",
       "Kuwait                                           54\n",
       "Eritrea                                          52\n",
       "West Bank and Gaza                               27\n",
       "Serbia                                           27\n",
       "Sint Maarten (Dutch part)                        19\n",
       "Name: Country Name, Length: 263, dtype: int64"
      ]
     },
     "execution_count": 156,
     "metadata": {},
     "output_type": "execute_result"
    }
   ],
   "source": [
    "# Look at the value_counts() of the 'Country Name' column \n",
    "\n",
    "\n",
    "\n",
    "df['Country Name'].value_counts()"
   ]
  },
  {
   "cell_type": "code",
   "execution_count": 157,
   "metadata": {},
   "outputs": [
    {
     "data": {
      "text/plain": [
       "Index(['Country Name', 'Country Code', 'Year', 'Value'], dtype='object')"
      ]
     },
     "execution_count": 157,
     "metadata": {},
     "output_type": "execute_result"
    }
   ],
   "source": [
    "df.columns"
   ]
  },
  {
   "cell_type": "markdown",
   "metadata": {},
   "source": [
    "## Groupings and Subplots\n",
    "\n",
    "When creating subplots, it makes sense that we'll usually want the plots to contain data that is related to one another, so that the subplots will make it easy to visually compare and see trends or patterns. The easiest way to do this is to group our data by the types of information we're most interested in seeing. For this dataset, that means that we can group by `'Country Name'`, by `'Country Code'`, or by `'Year'`. Let's start by grouping by name.\n",
    "\n",
    "For our first subplot, we'll create 1 row containing 2 subplots. Let's start by getting some data for each of our plots. We'll do this by slicing data for the USA and Canada and storing them in separate variables. \n",
    "\n",
    "In the cell below:\n",
    "\n",
    "* Slice all the rows for '`United States`' and store them in the appropriate variable. \n",
    "* Slice all the rows for '`Canada`' and store them in the appropriate variable. \n",
    "* Inspect the `head()` of each to ensure that we grabbed the data correctly. "
   ]
  },
  {
   "cell_type": "code",
   "execution_count": 158,
   "metadata": {},
   "outputs": [
    {
     "data": {
      "text/plain": [
       "RangeIndex(start=0, stop=14885, step=1)"
      ]
     },
     "execution_count": 158,
     "metadata": {},
     "output_type": "execute_result"
    }
   ],
   "source": [
    "df.index"
   ]
  },
  {
   "cell_type": "code",
   "execution_count": 159,
   "metadata": {},
   "outputs": [
    {
     "data": {
      "text/html": [
       "<div>\n",
       "<style scoped>\n",
       "    .dataframe tbody tr th:only-of-type {\n",
       "        vertical-align: middle;\n",
       "    }\n",
       "\n",
       "    .dataframe tbody tr th {\n",
       "        vertical-align: top;\n",
       "    }\n",
       "\n",
       "    .dataframe thead th {\n",
       "        text-align: right;\n",
       "    }\n",
       "</style>\n",
       "<table border=\"1\" class=\"dataframe\">\n",
       "  <thead>\n",
       "    <tr style=\"text-align: right;\">\n",
       "      <th></th>\n",
       "      <th>Country Name</th>\n",
       "      <th>Country Code</th>\n",
       "      <th>Year</th>\n",
       "      <th>Value</th>\n",
       "    </tr>\n",
       "  </thead>\n",
       "  <tbody>\n",
       "  </tbody>\n",
       "</table>\n",
       "</div>"
      ],
      "text/plain": [
       "Empty DataFrame\n",
       "Columns: [Country Name, Country Code, Year, Value]\n",
       "Index: []"
      ]
     },
     "execution_count": 159,
     "metadata": {},
     "output_type": "execute_result"
    }
   ],
   "source": [
    "# Slice all the rows for USA\n",
    "\n",
    "usa = df[df['Country Code'] == 'USA']\n",
    "canada = df[df['Country Code'] == 'CAD']\n",
    "canada.head()\n"
   ]
  },
  {
   "cell_type": "markdown",
   "metadata": {},
   "source": [
    "Now that our data is ready, lets go ahead and create a basic subplot. For our first batch of subplots, we'll use the quick way by making use of `plt.subplot()` and passing in the number of rows, number of columns, and the number of the subplots that we want to create. Then, we'll create our plot by passing in the corresponding data. \n",
    "\n",
    "When we call `plt.subplot()`, it will return an `ax` (short for 'axis') object that corresponds to the third parameter we pass in -- the actual plot we will want to create. To create subplots on the fly with this method, we'll:\n",
    "\n",
    "1. Get the `ax` object for the first plot in the subplot we want to create. Store this in the variable `ax1` \n",
    "2. Call `.plot()` on the `usa` DataFrame, and specify the following parameters:\n",
    "    * `x='Year'`\n",
    "    * `y='Value'`\n",
    "    * `ax=ax1`\n",
    "3. Use the `ax1` object's methods to do any labeling we find necessary \n",
    "4. Repeat the process for `canada` with the second plot. Store this axis in `ax2`   \n",
    "\n",
    "Do this now in the cell below. "
   ]
  },
  {
   "cell_type": "code",
   "execution_count": 160,
   "metadata": {},
   "outputs": [
    {
     "ename": "AttributeError",
     "evalue": "module 'matplotlib' has no attribute 'plot'",
     "output_type": "error",
     "traceback": [
      "\u001b[0;31m---------------------------------------------------------------------------\u001b[0m",
      "\u001b[0;31mAttributeError\u001b[0m                            Traceback (most recent call last)",
      "\u001b[0;32m<ipython-input-160-c140712cea08>\u001b[0m in \u001b[0;36m<module>\u001b[0;34m\u001b[0m\n\u001b[1;32m      1\u001b[0m \u001b[0;31m# Subplot for USA\u001b[0m\u001b[0;34m\u001b[0m\u001b[0;34m\u001b[0m\u001b[0;34m\u001b[0m\u001b[0m\n\u001b[0;32m----> 2\u001b[0;31m \u001b[0mplt\u001b[0m\u001b[0;34m.\u001b[0m\u001b[0mplot\u001b[0m\u001b[0;34m(\u001b[0m\u001b[0musa\u001b[0m\u001b[0;34m)\u001b[0m\u001b[0;34m\u001b[0m\u001b[0;34m\u001b[0m\u001b[0m\n\u001b[0m\u001b[1;32m      3\u001b[0m \u001b[0mplt\u001b[0m\u001b[0;34m.\u001b[0m\u001b[0msubplot\u001b[0m\u001b[0;34m(\u001b[0m\u001b[0mcanada\u001b[0m\u001b[0;34m)\u001b[0m\u001b[0;34m\u001b[0m\u001b[0;34m\u001b[0m\u001b[0m\n\u001b[1;32m      4\u001b[0m \u001b[0;34m\u001b[0m\u001b[0m\n\u001b[1;32m      5\u001b[0m \u001b[0mplt\u001b[0m\u001b[0;34m.\u001b[0m\u001b[0mxlabel\u001b[0m\u001b[0;34m(\u001b[0m\u001b[0;34m'Year'\u001b[0m\u001b[0;34m)\u001b[0m\u001b[0;34m\u001b[0m\u001b[0;34m\u001b[0m\u001b[0m\n",
      "\u001b[0;31mAttributeError\u001b[0m: module 'matplotlib' has no attribute 'plot'"
     ]
    }
   ],
   "source": [
    "# Subplot for USA\n",
    "plt.plot(usa)\n",
    "plt.subplot(canada)\n",
    "\n",
    "plt.xlabel('Year')\n",
    "plt.ylabel('Value')\n",
    "plt.title()\n",
    "ax1 = None\n",
    "\n",
    "# Subplot for Canada\n",
    "ax2 = None"
   ]
  },
  {
   "cell_type": "markdown",
   "metadata": {},
   "source": [
    "Our plots look pretty good, but they're a bit squished together, and the plots themselves are much too small, which squishes the axis values.  Both of these problems have an easy fix. We'll begin by using `plt.figure()` and passing in a larger `figsize` of `(20, 10)` to tell matplotlib we want the full subplot to be 20 inches by 10.  \n",
    "\n",
    "We can fix the spacing quite easily by using `plt.subplots_adjust()` and changing the amount of space in between our plots. The [documentation for `subplots_adjust`](https://matplotlib.org/api/_as_gen/matplotlib.pyplot.subplots_adjust.html) tells us that the parameter we need to adjust is `wspace`. This is set to `0.2` by default, meaning that the amount of space between our plots is equal to 20% of the width of the plots. Let's set `wspace=0.4`, and see how that looks.\n",
    "\n",
    "In the cell below: \n",
    "\n",
    "* Call `plt.figure()` and use the `figsize` parameter to set the size of the total subplot to 20 inches wide by 10 inches tall. Remember to pass these values in as a tuple, with width first and height second  \n",
    "* Copy the visualization code from the cell above into the cell below  \n",
    "* After setting the title for the Canada plot, add the line `plt.subplots_adjust()` and pass in the parameter `wspace=0.4` "
   ]
  },
  {
   "cell_type": "code",
   "execution_count": null,
   "metadata": {},
   "outputs": [],
   "source": [
    "# Create figure"
   ]
  },
  {
   "cell_type": "markdown",
   "metadata": {},
   "source": [
    "Much better!\n",
    "\n",
    "Next, we'll see some advanced methods for creating subplots. But, before we do that, let's take a brief detour and learn about the `enumerate` keyword!\n",
    "\n",
    "## Using `enumerate()`\n",
    "\n",
    "Python's `enumerate()` keyword is a special type of `for` loop. It works just like a regular `for` loop, with one major difference -- instead of just returning the next object with each iteration of the loop, it also returns the index of the object from the collection we're looping through! \n",
    "\n",
    "Run the example code in the cell below, and examine the output. That should make it clear what is happening. "
   ]
  },
  {
   "cell_type": "code",
   "execution_count": null,
   "metadata": {},
   "outputs": [],
   "source": [
    "sample_list = ['foo', 'bar', 'baz']\n",
    "\n",
    "for index, value in enumerate(sample_list):\n",
    "    print(\"Index: {}      Value: {}\".format(index, value))    "
   ]
  },
  {
   "cell_type": "markdown",
   "metadata": {},
   "source": [
    "The `enumerate` keyword is extremely helpful anytime we need to do something that needs the index of the item we're looping through. Let's try an example: \n",
    "\n",
    "In the cell below: \n",
    "* `enumerate()` through `sample_list_2` \n",
    "* For any item in `sample_list_2`, append it to the `odds` list if it's index is an odd number \n",
    "* Once the loop has finished, print `odds` "
   ]
  },
  {
   "cell_type": "code",
   "execution_count": null,
   "metadata": {},
   "outputs": [],
   "source": [
    "sample_list_2 = ['item at Index ' + str(i) for i in range(10)]\n",
    "odds = []\n",
    "\n",
    "# Write your code below this line\n",
    "\n",
    "\n",
    "\n",
    "# Write your code above this line\n",
    "\n",
    "odds\n",
    "# Expected Output: \n",
    "# ['item at Index 1',\n",
    "#  'item at Index 3',\n",
    "#  'item at Index 5',\n",
    "#  'item at Index 7',\n",
    "#  'item at Index 9']"
   ]
  },
  {
   "cell_type": "markdown",
   "metadata": {},
   "source": [
    "Great! There are plenty of situations where `enumerate()` comes in very handy. By allowing us to get the index and the value at the same time, it makes it simple to manipulate one variable based on the value of the other. This is a natural requirement of subplots.\n",
    "\n",
    "## Enumerating with Subplots\n",
    "\n",
    "To end this lab, we'll see how we can use `enumerate` to easily subplot this entire DataFrame by country -- all 263 of them!\n",
    "\n",
    "It will work like this. We'll begin by grouping each row in our DataFrame by `'Country Name'`. Then, we'll create a `plt.figure()` and set the figure size to `(20,40)`. We'll also set the `facecolor` to `'white'`, so that it's a bit easier to read. \n",
    "\n",
    "Then comes the fun part. We'll enumerate through our grouped DataFrame. Just looping through a grouped DataFrame returns a tuple containing the index and the rows with that country name. Since we're grouped by `'Country Name'`, this means that the index will actually be the `'Country Name'`. However, we're not just looping through the grouped DataFrame -- we're `enumerate`-ing through it! \n",
    "\n",
    "```python\n",
    "for index, (value1, value2) in enumerate(grouped_DataFrame):\n",
    "    # index is an integer, starting at 0 and counting up by 1 just \n",
    "    # like we would expect a for loop to do\n",
    "    \n",
    "    #(value1, value2) is a tuple containing the name of the country as value 1\n",
    "    # (since it is acting as the index because we grouped everything by it),\n",
    "    # and value 2 is all the rows that belong to that country's group. \n",
    "    \n",
    "```\n",
    "\n",
    "This means that the `index` for our enumeration will be an integer value that counts higher by 1 with each country. If we just add 1 to it (because subplots start counting at 1, but Python starts counting at 0), then this number will correspond with the index we need to pass in as the third parameter in `plt.subplot()` -- the parameter that specifies which plot inside the subplot should show the plot we're about to create. \n",
    "\n",
    "Don't worry if this seems confusing -- the code below has been commented to help you. "
   ]
  },
  {
   "cell_type": "code",
   "execution_count": null,
   "metadata": {},
   "outputs": [],
   "source": [
    "# Group the DataFrame by Country Name (this line has been provided for you)\n",
    "grouped_df = df.groupby('Country Name')\n",
    "\n",
    "# pass in figsize=(20,40) and also set the facecolor parameter to 'white'\n",
    "plt.figure(figsize=None, facecolor=None)\n",
    "\n",
    "# Complete the line below so that the first loop variable is the called index,\n",
    "# and the second loop variable is the tuple (countryname, population)  \n",
    "for None, None in enumerate(grouped_df):\n",
    "    \n",
    "    # Get the unique subplot where the plot we're creating during this iteration\n",
    "    # of the loop will live. Our subplot will be 30 rows of 9 plots each  \n",
    "    # Set the third value to be index+1\n",
    "    ax = plt.subplot(30, 9, None)\n",
    "    \n",
    "    # Complete the line to create the plot for this subplot  \n",
    "    # Same visualizations as we created above!\n",
    "    population.plot(x=None, y=None, ax=None, legend=False)\n",
    "    \n",
    "    # Set the title of each plot, so we know which country it represents\n",
    "    ax.set_title(None)"
   ]
  },
  {
   "cell_type": "markdown",
   "metadata": {},
   "source": [
    "Great job! Being able to effectively create subplots with `matplotlib` is a solid data visualization skill to have -- and using `enumerate()` makes our code that much simpler!\n",
    "\n",
    "## Summary\n",
    "\n",
    "In this lab, we learned how to create advanced subplots using `enumerate()` on grouped DataFrames!"
   ]
  }
 ],
 "metadata": {
  "kernelspec": {
   "display_name": "Python 3",
   "language": "python",
   "name": "python3"
  },
  "language_info": {
   "codemirror_mode": {
    "name": "ipython",
    "version": 3
   },
   "file_extension": ".py",
   "mimetype": "text/x-python",
   "name": "python",
   "nbconvert_exporter": "python",
   "pygments_lexer": "ipython3",
   "version": "3.7.6"
  }
 },
 "nbformat": 4,
 "nbformat_minor": 2
}

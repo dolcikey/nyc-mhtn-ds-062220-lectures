{
 "cells": [
  {
   "cell_type": "code",
   "execution_count": 1,
   "metadata": {},
   "outputs": [],
   "source": [
    "import numpy as py\n",
    "import math "
   ]
  },
  {
   "cell_type": "markdown",
   "metadata": {},
   "source": []
  },
  {
   "cell_type": "markdown",
   "metadata": {},
   "source": [
    "It’s no surprise that the Met is a very famous museum. Not only is it a tourist attraction, but it’s a tourist attraction that New Yorkers also visit. Suppose tourists make up 5% of the population at any given time, and suppose 35% of the tourist population is visiting the Met on any given day. Now suppose 0.4% of New Yorkers are at the Met on any given day. What is the probability that you select a New Yorker at random, given that they are at the Met?"
   ]
  },
  {
   "cell_type": "markdown",
   "metadata": {},
   "source": [
    "What is the question asking for?"
   ]
  },
  {
   "cell_type": "markdown",
   "metadata": {},
   "source": [
    "### Probability that you select a New Yorker at random, given that they are at the Met ###\n",
    "\n",
    "\n",
    "FIND: \n",
    "#### P(New Yorker|Met) ####\n",
    "\n",
    "#### Bayes Formula ####\n",
    "#### P(A|B) = P(B|A) * P(A) / P(B) ####\n",
    "\n",
    "\n",
    "\n",
    "Find New Yorker and Not New Yorker (Tourist):\n",
    "\n",
    " P(A) = New Yorker\n",
    " P(B) = MET\n",
    " \n",
    " P(A|B) = P(B|A) * P(A) / P(B)\n",
    "\n",
    "FORMULA with Values: \n",
    "P(NY|MET) = P(MET|NY) * P(NY) / P(MET)\n",
    "\n",
    "\n",
    "newyorker= 0.95 \n",
    "not_newyorker = 1 - 0.95\n",
    "\n",
    "What is B? BECAUSE it is asking for a percent of population. \n",
    "\n",
    "#### P(B) = P(B|A)* P(A) + P(B|A') * P(A') ####\n",
    "#### TOTAL PROBABILITY ###\n",
    "\n",
    "P_MET= Unknown\n",
    "given_newyorker_met = .004\n",
    "given_not_newyorker_met = .35\n",
    "\n",
    "\n",
    "MET = P(MET|NY) * P(NY) + P(MET|NOT NY) * P(NOT NY)\n",
    "\n"
   ]
  },
  {
   "cell_type": "code",
   "execution_count": 14,
   "metadata": {},
   "outputs": [],
   "source": [
    "# A\n",
    "newyorker= 0.95 \n",
    "not_newyorker = 1 - 0.95\n",
    "\n",
    "#B\n",
    "given_newyorker_met = .004\n",
    "given_not_newyorker_met = .35\n"
   ]
  },
  {
   "cell_type": "code",
   "execution_count": 19,
   "metadata": {},
   "outputs": [],
   "source": [
    "#Find B \n",
    "\n",
    "\n",
    "P_MET = (given_newyorker_met *newyorker) + (given_not_newyorker_met * not_newyorker)\n",
    "#MET = (New Yorkers at the Met .004 * .95) + (Tourists at the Met .35 * .05 )\n",
    "# ALL OF THE PEOPLE GOING TO THE MET \n"
   ]
  },
  {
   "cell_type": "code",
   "execution_count": 20,
   "metadata": {},
   "outputs": [],
   "source": [
    "New_Yorkers_MET = given_newyorker_met * newyorker / P_MET"
   ]
  },
  {
   "cell_type": "code",
   "execution_count": 22,
   "metadata": {},
   "outputs": [
    {
     "data": {
      "text/plain": [
       "0.17840375586854446"
      ]
     },
     "execution_count": 22,
     "metadata": {},
     "output_type": "execute_result"
    }
   ],
   "source": [
    "New_Yorkers_MET"
   ]
  },
  {
   "cell_type": "code",
   "execution_count": 17,
   "metadata": {},
   "outputs": [
    {
     "data": {
      "text/plain": [
       "0.17840375586854446"
      ]
     },
     "execution_count": 17,
     "metadata": {},
     "output_type": "execute_result"
    }
   ],
   "source": [
    "New_Yorkers_MET"
   ]
  },
  {
   "cell_type": "markdown",
   "metadata": {},
   "source": [
    "Sophia made the following two-way table categorizing the US senators in 2015 by their political party and whether or not it was their first term in the senate.\n",
    "Find the probability that the senator was in the Democratic party, given that the senator was returning to office."
   ]
  },
  {
   "cell_type": "code",
   "execution_count": 13,
   "metadata": {},
   "outputs": [],
   "source": [
    "#Find the probability that the senator was in the Democratic party, \n",
    "#given that the senator was returning to office.\n"
   ]
  },
  {
   "cell_type": "code",
   "execution_count": null,
   "metadata": {},
   "outputs": [],
   "source": [
    "# P(Democrat| Returning to Office)\n",
    "#P(A|B) = P(B|A) * P(A) / P(B)\n",
    "\n",
    "\n",
    "Dem_A = \n",
    "Not_A = \n",
    "\n",
    "Returning_B = \n",
    "Not_B = "
   ]
  },
  {
   "cell_type": "code",
   "execution_count": null,
   "metadata": {},
   "outputs": [],
   "source": []
  },
  {
   "cell_type": "code",
   "execution_count": null,
   "metadata": {},
   "outputs": [],
   "source": []
  },
  {
   "cell_type": "code",
   "execution_count": null,
   "metadata": {},
   "outputs": [],
   "source": []
  },
  {
   "cell_type": "code",
   "execution_count": null,
   "metadata": {},
   "outputs": [],
   "source": []
  },
  {
   "cell_type": "code",
   "execution_count": null,
   "metadata": {},
   "outputs": [],
   "source": [
    "#Null Hypothesis\n",
    "# H0 p1-p2 = 0 there is no change\n",
    "# Ha p1-p2 != 0 there is change\n",
    "\n",
    "\n",
    "#v(p1-p0)\n",
    "#v(p1) + v(p0)\n",
    "\n",
    "p(1-p)*(1/n1 + 1/n0)\n",
    "\n",
    "#level of significance is alpha\n",
    "\n",
    "alpha = 0.05\n",
    "#two-tail\n",
    "alpha2 = 0.05/2\n",
    "critical_value = 1.96\n",
    "\n",
    "\n",
    "\n",
    "Ttest = p1-p2 / np.sqrt(p(1-p)*(1/n1 + 1/n2))\n",
    " \n",
    "#Reject Null \n",
    "#1.99 > 1.96\n",
    "\n",
    "\n",
    "p-value = 1-0.047\n",
    "#P-value < alpha enough evidence to reject H0 at the 5% level of significance\n",
    "# pvalue > alpha fail to reject H0 at the 5% level of significance\n",
    "\n",
    "\n",
    "\n"
   ]
  },
  {
   "cell_type": "code",
   "execution_count": 34,
   "metadata": {},
   "outputs": [],
   "source": [
    "def reject_fail_to_reject(t_stat, cv, alpha):\n",
    "    if abs(t_stat) <= cv:\n",
    "        print ('Fail to reject the null hypothesis that the means are equal at a significance level of ’,, '.'    else:\n",
    "    else:\n",
    "        print ('Reject the null hypothesis that the means are equal at a significance level of ', alpha, '.')"
   ]
  },
  {
   "cell_type": "code",
   "execution_count": 35,
   "metadata": {},
   "outputs": [
    {
     "name": "stdout",
     "output_type": "stream",
     "text": [
      "Reject the null hypothesis that the means are equal at a significance level of  0.05 .\n"
     ]
    }
   ],
   "source": [
    "t_stat  = 1.99\n",
    "cv = 1.96\n",
    "alpha = 0.05\n",
    "\n",
    "reject_fail_to_reject(t_stat, cv, alpha)"
   ]
  },
  {
   "cell_type": "code",
   "execution_count": null,
   "metadata": {},
   "outputs": [],
   "source": []
  },
  {
   "cell_type": "code",
   "execution_count": null,
   "metadata": {},
   "outputs": [],
   "source": [
    "1. A group of 600 adults were given blackout curtains and ranked their quality of sleep on a scale from 1 to 10. \n",
    "The average quality was a 6? 2 with a standard deviation of 3. \n",
    "600 other adults were told to sleep with no curtains and rank their sleep quality. \n",
    "Their average quality of sleep was 7, with a standard deviation of 2. \n",
    "Is there a significant difference in the average quality of sleep of those with and without blackout curtains?\n",
    "\n"
   ]
  },
  {
   "cell_type": "code",
   "execution_count": 39,
   "metadata": {},
   "outputs": [
    {
     "data": {
      "text/plain": [
       "-10.954451150103322"
      ]
     },
     "execution_count": 39,
     "metadata": {},
     "output_type": "execute_result"
    }
   ],
   "source": [
    "import numpy as np\n",
    "\n",
    "n1 = 600\n",
    "x1 = 6 \n",
    "s1 = 3\n",
    "\n",
    "n2 = 600\n",
    "x2 = 7\n",
    "s2= 2\n",
    "\n",
    "#H0 mean blackout = mean no curtains\n",
    "#Ha mean blackout!= mean no curtains\n",
    "\n",
    "\n",
    "#two sample t-test of means\n",
    "\n",
    "tstat = (x1 - x2)  / np.sqrt((s1/n1) + (s2/n2))\n",
    "tstat\n",
    "\n",
    "\n"
   ]
  },
  {
   "cell_type": "code",
   "execution_count": null,
   "metadata": {},
   "outputs": [],
   "source": [
    "2. The Joneses raise 62 golden retrievers and give them doggy logic puzzles every day to make them smarter. \n",
    "They've found that their dogs, on average, have a dog IQ of 105, \n",
    "where the mean average of today golden retrievers is 100, with a standard deviation of 10. \n",
    "Is there evidence to suggest that, on average, the Joneses raise golden retrievers \n",
    "with higher dog IQs than normal golden retrievers?\n",
    "\n",
    "z-test hypothesis\n",
    "\n",
    "dogs = 62 \n",
    "IQ average 105\n",
    "\n",
    "\n",
    "\n",
    "3. Advil has a new formula they claim helps relieve headache pain faster than their old formula. \n",
    "The mean headache relief time of their old formula was 12 minutes. \n",
    "They obtained a sample of 435 people with headaches that tried their new formula and \n",
    "reported the relief time they experienced. \n",
    "The mean was 10 minutes, with a standard deviation of 3 minutes. \n",
    "Is there evidence to suggest that their new formula relieves headaches faster than their old formula?\n",
    "----------\n",
    "Using a Python package, conduct a hypothesis test for number 2 with a significance level of .05.\n",
    "\n",
    "\n",
    "\n",
    "1 sample t test\n",
    "\n",
    "\n",
    "\n",
    "\n",
    "\n",
    "Message #nyc-mhtn-ds-062220\n",
    "\n",
    "\n"
   ]
  },
  {
   "cell_type": "code",
   "execution_count": null,
   "metadata": {},
   "outputs": [],
   "source": []
  },
  {
   "cell_type": "code",
   "execution_count": null,
   "metadata": {},
   "outputs": [],
   "source": []
  },
  {
   "cell_type": "code",
   "execution_count": null,
   "metadata": {},
   "outputs": [],
   "source": []
  },
  {
   "cell_type": "code",
   "execution_count": null,
   "metadata": {},
   "outputs": [],
   "source": []
  },
  {
   "cell_type": "code",
   "execution_count": null,
   "metadata": {},
   "outputs": [],
   "source": []
  },
  {
   "cell_type": "code",
   "execution_count": null,
   "metadata": {},
   "outputs": [],
   "source": []
  }
 ],
 "metadata": {
  "kernelspec": {
   "display_name": "Python 3",
   "language": "python",
   "name": "python3"
  },
  "language_info": {
   "codemirror_mode": {
    "name": "ipython",
    "version": 3
   },
   "file_extension": ".py",
   "mimetype": "text/x-python",
   "name": "python",
   "nbconvert_exporter": "python",
   "pygments_lexer": "ipython3",
   "version": "3.7.6"
  }
 },
 "nbformat": 4,
 "nbformat_minor": 4
}

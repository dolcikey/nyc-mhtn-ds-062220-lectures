{
 "cells": [
  {
   "cell_type": "code",
   "execution_count": 1,
   "metadata": {},
   "outputs": [],
   "source": [
    "import numpy as py\n",
    "import math "
   ]
  },
  {
   "cell_type": "markdown",
   "metadata": {},
   "source": []
  },
  {
   "cell_type": "markdown",
   "metadata": {},
   "source": [
    "It’s no surprise that the Met is a very famous museum. Not only is it a tourist attraction, but it’s a tourist attraction that New Yorkers also visit. Suppose tourists make up 5% of the population at any given time, and suppose 35% of the tourist population is visiting the Met on any given day. Now suppose 0.4% of New Yorkers are at the Met on any given day. What is the probability that you select a New Yorker at random, given that they are at the Met?"
   ]
  },
  {
   "cell_type": "markdown",
   "metadata": {},
   "source": [
    "What is the question asking for?"
   ]
  },
  {
   "cell_type": "markdown",
   "metadata": {},
   "source": [
    "### Probability that you select a New Yorker at random, given that they are at the Met ###\n",
    "\n",
    "\n",
    "FIND: \n",
    "#### P(New Yorker|Met) ####\n",
    "\n",
    "#### Bayes Formula ####\n",
    "#### P(A|B) = P(B|A) * P(A) / P(B) ####\n",
    "\n",
    "\n",
    "\n",
    "Find New Yorker and Not New Yorker (Tourist):\n",
    "\n",
    " P(A) = New Yorker\n",
    " P(B) = MET\n",
    " P(A|B) = P(B|A) * P(A) / P(B)\n",
    "\n",
    "FORMULA with Values: \n",
    "P(NY|MET) = P(MET|NY) * P(NY) / P(MET)\n",
    "\n",
    "\n",
    "P_NY= 0.95 \n",
    "P_NOT_NY = 1 - 0.95\n",
    "\n",
    "What is B? BECAUSE it is asking for a percent of population. \n",
    "\n",
    "#### P(B) = P(B|A)* P(A) + P(B|A') * P(A') ####\n",
    "#### TOTAL PROBABILITY ###\n",
    "\n",
    "P_MET= Unknown\n",
    "P_MET_NY = .004\n",
    "P_MET_NOT_NY = .35\n",
    "\n",
    "\n",
    "MET = P(MET|NY) * P(NY) + P(MET|NOT NY) * P(NOT NY)\n",
    "\n"
   ]
  },
  {
   "cell_type": "code",
   "execution_count": 3,
   "metadata": {},
   "outputs": [],
   "source": [
    "# A\n",
    "P_NY_A = 0.95\n",
    "P_Not_NY_1A = 1 - 0.95\n",
    "\n",
    "#B\n",
    "P_MET_NY = .004 #of 100% NY\n",
    "P_MET_NOT_NY = .35 #of 100% Tourists \n",
    "\n"
   ]
  },
  {
   "cell_type": "code",
   "execution_count": 11,
   "metadata": {},
   "outputs": [
    {
     "data": {
      "text/plain": [
       "0.004"
      ]
     },
     "execution_count": 11,
     "metadata": {},
     "output_type": "execute_result"
    }
   ],
   "source": [
    "#Find B \n",
    "\n",
    "\n",
    "P_MET = (P_MET_NY *P_NY_A) + (P_MET_NOT_NY * P_Not_NY_1A)\n",
    "#MET = (New Yorkers at the Met .004 * .95) + (Tourists at the Met .35 * .05 )\n",
    "# ALL OF THE PEOPLE GOING TO THE MET \n"
   ]
  },
  {
   "cell_type": "code",
   "execution_count": 9,
   "metadata": {},
   "outputs": [],
   "source": [
    "New_Yorkers_MET = P_MET_NY * P_NY_A / P_MET"
   ]
  },
  {
   "cell_type": "code",
   "execution_count": 10,
   "metadata": {},
   "outputs": [
    {
     "data": {
      "text/plain": [
       "0.17840375586854446"
      ]
     },
     "execution_count": 10,
     "metadata": {},
     "output_type": "execute_result"
    }
   ],
   "source": [
    "New_Yorkers_MET"
   ]
  },
  {
   "cell_type": "code",
   "execution_count": null,
   "metadata": {},
   "outputs": [],
   "source": []
  }
 ],
 "metadata": {
  "kernelspec": {
   "display_name": "Python 3",
   "language": "python",
   "name": "python3"
  },
  "language_info": {
   "codemirror_mode": {
    "name": "ipython",
    "version": 3
   },
   "file_extension": ".py",
   "mimetype": "text/x-python",
   "name": "python",
   "nbconvert_exporter": "python",
   "pygments_lexer": "ipython3",
   "version": "3.7.6"
  }
 },
 "nbformat": 4,
 "nbformat_minor": 4
}

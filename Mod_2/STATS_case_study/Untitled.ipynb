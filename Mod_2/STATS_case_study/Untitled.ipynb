{
 "cells": [
  {
   "cell_type": "code",
   "execution_count": 4,
   "metadata": {},
   "outputs": [
    {
     "ename": "SyntaxError",
     "evalue": "invalid syntax (<ipython-input-4-638b67107439>, line 1)",
     "output_type": "error",
     "traceback": [
      "\u001b[0;36m  File \u001b[0;32m\"<ipython-input-4-638b67107439>\"\u001b[0;36m, line \u001b[0;32m1\u001b[0m\n\u001b[0;31m    numpy as py\u001b[0m\n\u001b[0m           ^\u001b[0m\n\u001b[0;31mSyntaxError\u001b[0m\u001b[0;31m:\u001b[0m invalid syntax\n"
     ]
    }
   ],
   "source": [
    "numpy as py\n",
    "import math\n",
    "\n",
    "bag1 = {1,1,1,1,0,0,0,0,0}\n",
    "bag2 = {1,1,1,1,1,1,1,0,0,0}\n",
    "\n",
    "black = 1\n",
    "red = 0\n",
    "\n",
    "\n",
    "numpy as py\n",
    "import math\n",
    "\n",
    "bag1 = {1,1,1,1,0,0,0,0,0}\n",
    "bag2 = {1,1,1,1,1,1,1,0,0,0}\n",
    "\n",
    "black = 1\n",
    "red = 0\n",
    "\n",
    "\n",
    "bag1red = 4/9\n",
    "bag1black = 5/9\n",
    "bag2red1 = 3/10\n",
    "bag2red2 = 3/9\n",
    "\n",
    "\n",
    "\n"
   ]
  },
  {
   "cell_type": "code",
   "execution_count": 21,
   "metadata": {},
   "outputs": [
    {
     "data": {
      "text/plain": [
       "0.48287037037037034"
      ]
     },
     "execution_count": 21,
     "metadata": {},
     "output_type": "execute_result"
    }
   ],
   "source": [
    "\n",
    "\n",
    "rbb  = (4/9)* (7/10) * (6/9) \n",
    "brb = (5/9) * (3/10) * (7/9)\n",
    "bbr = (5/8) * (7/10) * (3/9)\n",
    "\n",
    "(rbb + brb + bbr)\n"
   ]
  },
  {
   "cell_type": "code",
   "execution_count": null,
   "metadata": {},
   "outputs": [],
   "source": []
  },
  {
   "cell_type": "code",
   "execution_count": null,
   "metadata": {},
   "outputs": [],
   "source": []
  }
 ],
 "metadata": {
  "kernelspec": {
   "display_name": "Python 3",
   "language": "python",
   "name": "python3"
  },
  "language_info": {
   "codemirror_mode": {
    "name": "ipython",
    "version": 3
   },
   "file_extension": ".py",
   "mimetype": "text/x-python",
   "name": "python",
   "nbconvert_exporter": "python",
   "pygments_lexer": "ipython3",
   "version": "3.7.6"
  }
 },
 "nbformat": 4,
 "nbformat_minor": 4
}

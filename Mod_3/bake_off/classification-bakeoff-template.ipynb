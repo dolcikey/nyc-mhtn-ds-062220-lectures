{
 "cells": [
  {
   "cell_type": "markdown",
   "metadata": {},
   "source": [
    "# Applying Classification Modeling\n",
    "The goal of this week's assessment is to find the model which best predicts whether or not a person will default on their bank loan. In doing so, we want to utilize all of the different tools we have learned over the course: data cleaning, EDA, feature engineering/transformation, feature selection, hyperparameter tuning, and model evaluation. \n",
    "\n",
    "\n",
    "#### Data Set Information:\n",
    "\n",
    "This research aimed at the case of customers default payments in Taiwan and compares the predictive accuracy of probability of default among six data mining methods. From the perspective of risk management, the result of predictive accuracy of the estimated probability of default will be more valuable than the binary result of classification - credible or not credible clients. Because the real probability of default is unknown, this study presented the novel Sorting Smoothing Method to estimate the real probability of default. With the real probability of default as the response variable (Y), and the predictive probability of default as the independent variable (X), the simple linear regression result (Y = A + BX) shows that the forecasting model produced by artificial neural network has the highest coefficient of determination; its regression intercept (A) is close to zero, and regression coefficient (B) to one. Therefore, among the six data mining techniques, artificial neural network is the only one that can accurately estimate the real probability of default. \n",
    "\n",
    "- NT is the abbreviation for New Taiwain. \n",
    "\n",
    "\n",
    "#### Attribute Information:\n",
    "\n",
    "This research employed a binary variable, default payment (Yes = 1, No = 0), as the response variable. This study reviewed the literature and used the following 23 variables as explanatory variables: \n",
    "- X1: Amount of the given credit (NT dollar): it includes both the individual consumer credit and his/her family (supplementary) credit. \n",
    "- X2: Gender (1 = male; 2 = female). \n",
    "- X3: Education (1 = graduate school; 2 = university; 3 = high school; 4 = others). \n",
    "- X4: Marital status (1 = married; 2 = single; 3 = others). \n",
    "- X5: Age (year). \n",
    "- X6 - X11: History of past payment. We tracked the past monthly payment records (from April to September, 2005) as follows: \n",
    "    - X6 = the repayment status in September, 2005; \n",
    "    - X7 = the repayment status in August, 2005; . . .;\n",
    "    - etc...\n",
    "    - X11 = the repayment status in April, 2005. \n",
    "    - The measurement scale for the repayment status is: -1 = pay duly; 1 = payment delay for one month; 2 = payment delay for two months; . . .; 8 = payment delay for eight months; 9 = payment delay for nine months and above. \n",
    "- X12-X17: Amount of bill statement (NT dollar). \n",
    "    - X12 = amount of bill statement in September, 2005;\n",
    "    - etc...\n",
    "    - X13 = amount of bill statement in August, 2005; . . .; \n",
    "    - X17 = amount of bill statement in April, 2005. \n",
    "- X18-X23: Amount of previous payment (NT dollar). \n",
    "    - X18 = amount paid in September, 2005; \n",
    "    - X19 = amount paid in August, 2005; . . .;\n",
    "    - etc...\n",
    "    - X23 = amount paid in April, 2005. \n",
    "\n",
    "\n",
    "\n",
    "\n",
    "You will fit three different models (KNN, Logistic Regression, and Decision Tree Classifier) to predict credit card defaults and use gridsearch to find the best hyperparameters for those models. Then you will compare the performance of those three models on a test set to find the best one.  \n"
   ]
  },
  {
   "cell_type": "markdown",
   "metadata": {},
   "source": [
    "## Process/Expectations\n",
    "\n",
    "- You will be working in pairs for this assessment\n",
    "\n",
    "### Please have ONE notebook and be prepared to explain how you worked in your pair.\n",
    "\n",
    "1. Clean up your data set so that you can perform an EDA. \n",
    "    - This includes handling null values, categorical variables, removing unimportant columns, and removing outliers.\n",
    "2. Perform EDA to identify opportunities to create new features.\n",
    "    - [Great Example of EDA for classification](https://www.kaggle.com/stephaniestallworth/titanic-eda-classification-end-to-end) \n",
    "    - [Using Pairplots with Classification](https://towardsdatascience.com/visualizing-data-with-pair-plots-in-python-f228cf529166)\n",
    "3. Engineer new features. \n",
    "    - Create polynomial and/or interaction features. \n",
    "    - Additionaly, you must also create **at least 2 new features** that are not interactions or polynomial transformations. \n",
    "        - *For example, you can create a new dummy variable that based on the value of a continuous variable (billamount6 >2000) or take the average of some past amounts.*\n",
    "4. Perform some feature selection. \n",
    "    \n",
    "5. You must fit **three** models to your data and tune **at least 1 hyperparameter** per model. \n",
    "6. Using the F-1 Score, evaluate how well your models perform and identify your best model.\n",
    "7. Using information from your EDA process and your model(s) output provide insight as to which borrowers are more likely to deafult\n"
   ]
  },
  {
   "cell_type": "code",
   "execution_count": 407,
   "metadata": {},
   "outputs": [],
   "source": [
    "# import libraries\n",
    "\n",
    "import pandas as pd\n",
    "import numpy as np\n",
    "import seaborn as sns\n",
    "import matplotlib.pyplot as plt\n",
    "%matplotlib inline\n"
   ]
  },
  {
   "cell_type": "markdown",
   "metadata": {},
   "source": [
    "## 1. Data Cleaning"
   ]
  },
  {
   "cell_type": "code",
   "execution_count": 408,
   "metadata": {},
   "outputs": [],
   "source": [
    "# set your column as the dataframe index\n",
    "df = pd.read_csv('training_data.csv', index_col = 0)\n",
    "\n"
   ]
  },
  {
   "cell_type": "code",
   "execution_count": 409,
   "metadata": {},
   "outputs": [],
   "source": [
    "df = df.drop('ID', axis = 0)\n"
   ]
  },
  {
   "cell_type": "code",
   "execution_count": 410,
   "metadata": {},
   "outputs": [
    {
     "data": {
      "text/html": [
       "<div>\n",
       "<style scoped>\n",
       "    .dataframe tbody tr th:only-of-type {\n",
       "        vertical-align: middle;\n",
       "    }\n",
       "\n",
       "    .dataframe tbody tr th {\n",
       "        vertical-align: top;\n",
       "    }\n",
       "\n",
       "    .dataframe thead th {\n",
       "        text-align: right;\n",
       "    }\n",
       "</style>\n",
       "<table border=\"1\" class=\"dataframe\">\n",
       "  <thead>\n",
       "    <tr style=\"text-align: right;\">\n",
       "      <th></th>\n",
       "      <th>X1</th>\n",
       "      <th>X2</th>\n",
       "      <th>X3</th>\n",
       "      <th>X4</th>\n",
       "      <th>X5</th>\n",
       "      <th>X6</th>\n",
       "      <th>X7</th>\n",
       "      <th>X8</th>\n",
       "      <th>X9</th>\n",
       "      <th>X10</th>\n",
       "      <th>...</th>\n",
       "      <th>X15</th>\n",
       "      <th>X16</th>\n",
       "      <th>X17</th>\n",
       "      <th>X18</th>\n",
       "      <th>X19</th>\n",
       "      <th>X20</th>\n",
       "      <th>X21</th>\n",
       "      <th>X22</th>\n",
       "      <th>X23</th>\n",
       "      <th>Y</th>\n",
       "    </tr>\n",
       "  </thead>\n",
       "  <tbody>\n",
       "    <tr>\n",
       "      <th>28835</th>\n",
       "      <td>220000</td>\n",
       "      <td>2</td>\n",
       "      <td>1</td>\n",
       "      <td>2</td>\n",
       "      <td>36</td>\n",
       "      <td>0</td>\n",
       "      <td>0</td>\n",
       "      <td>0</td>\n",
       "      <td>0</td>\n",
       "      <td>0</td>\n",
       "      <td>...</td>\n",
       "      <td>221193</td>\n",
       "      <td>181859</td>\n",
       "      <td>184605</td>\n",
       "      <td>10000</td>\n",
       "      <td>8018</td>\n",
       "      <td>10121</td>\n",
       "      <td>6006</td>\n",
       "      <td>10987</td>\n",
       "      <td>143779</td>\n",
       "      <td>1</td>\n",
       "    </tr>\n",
       "    <tr>\n",
       "      <th>25329</th>\n",
       "      <td>200000</td>\n",
       "      <td>2</td>\n",
       "      <td>3</td>\n",
       "      <td>2</td>\n",
       "      <td>29</td>\n",
       "      <td>-1</td>\n",
       "      <td>-1</td>\n",
       "      <td>-1</td>\n",
       "      <td>-1</td>\n",
       "      <td>-1</td>\n",
       "      <td>...</td>\n",
       "      <td>326</td>\n",
       "      <td>326</td>\n",
       "      <td>326</td>\n",
       "      <td>326</td>\n",
       "      <td>326</td>\n",
       "      <td>326</td>\n",
       "      <td>326</td>\n",
       "      <td>326</td>\n",
       "      <td>326</td>\n",
       "      <td>0</td>\n",
       "    </tr>\n",
       "    <tr>\n",
       "      <th>18894</th>\n",
       "      <td>180000</td>\n",
       "      <td>2</td>\n",
       "      <td>1</td>\n",
       "      <td>2</td>\n",
       "      <td>27</td>\n",
       "      <td>-2</td>\n",
       "      <td>-2</td>\n",
       "      <td>-2</td>\n",
       "      <td>-2</td>\n",
       "      <td>-2</td>\n",
       "      <td>...</td>\n",
       "      <td>0</td>\n",
       "      <td>0</td>\n",
       "      <td>0</td>\n",
       "      <td>0</td>\n",
       "      <td>0</td>\n",
       "      <td>0</td>\n",
       "      <td>0</td>\n",
       "      <td>0</td>\n",
       "      <td>0</td>\n",
       "      <td>0</td>\n",
       "    </tr>\n",
       "    <tr>\n",
       "      <th>690</th>\n",
       "      <td>80000</td>\n",
       "      <td>1</td>\n",
       "      <td>2</td>\n",
       "      <td>2</td>\n",
       "      <td>32</td>\n",
       "      <td>0</td>\n",
       "      <td>0</td>\n",
       "      <td>0</td>\n",
       "      <td>0</td>\n",
       "      <td>0</td>\n",
       "      <td>...</td>\n",
       "      <td>43882</td>\n",
       "      <td>42256</td>\n",
       "      <td>42527</td>\n",
       "      <td>1853</td>\n",
       "      <td>1700</td>\n",
       "      <td>1522</td>\n",
       "      <td>1548</td>\n",
       "      <td>1488</td>\n",
       "      <td>1500</td>\n",
       "      <td>0</td>\n",
       "    </tr>\n",
       "    <tr>\n",
       "      <th>6239</th>\n",
       "      <td>10000</td>\n",
       "      <td>1</td>\n",
       "      <td>2</td>\n",
       "      <td>2</td>\n",
       "      <td>27</td>\n",
       "      <td>0</td>\n",
       "      <td>0</td>\n",
       "      <td>0</td>\n",
       "      <td>0</td>\n",
       "      <td>0</td>\n",
       "      <td>...</td>\n",
       "      <td>5444</td>\n",
       "      <td>2639</td>\n",
       "      <td>2697</td>\n",
       "      <td>2000</td>\n",
       "      <td>1100</td>\n",
       "      <td>600</td>\n",
       "      <td>300</td>\n",
       "      <td>300</td>\n",
       "      <td>1000</td>\n",
       "      <td>1</td>\n",
       "    </tr>\n",
       "  </tbody>\n",
       "</table>\n",
       "<p>5 rows × 24 columns</p>\n",
       "</div>"
      ],
      "text/plain": [
       "           X1 X2 X3 X4  X5  X6  X7  X8  X9 X10  ...     X15     X16     X17  \\\n",
       "28835  220000  2  1  2  36   0   0   0   0   0  ...  221193  181859  184605   \n",
       "25329  200000  2  3  2  29  -1  -1  -1  -1  -1  ...     326     326     326   \n",
       "18894  180000  2  1  2  27  -2  -2  -2  -2  -2  ...       0       0       0   \n",
       "690     80000  1  2  2  32   0   0   0   0   0  ...   43882   42256   42527   \n",
       "6239    10000  1  2  2  27   0   0   0   0   0  ...    5444    2639    2697   \n",
       "\n",
       "         X18   X19    X20   X21    X22     X23  Y  \n",
       "28835  10000  8018  10121  6006  10987  143779  1  \n",
       "25329    326   326    326   326    326     326  0  \n",
       "18894      0     0      0     0      0       0  0  \n",
       "690     1853  1700   1522  1548   1488    1500  0  \n",
       "6239    2000  1100    600   300    300    1000  1  \n",
       "\n",
       "[5 rows x 24 columns]"
      ]
     },
     "execution_count": 410,
     "metadata": {},
     "output_type": "execute_result"
    }
   ],
   "source": [
    "df.head()"
   ]
  },
  {
   "cell_type": "code",
   "execution_count": null,
   "metadata": {},
   "outputs": [],
   "source": []
  },
  {
   "cell_type": "code",
   "execution_count": 411,
   "metadata": {
    "scrolled": true
   },
   "outputs": [
    {
     "data": {
      "text/plain": [
       "0    17471\n",
       "1     5028\n",
       "Name: Y, dtype: int64"
      ]
     },
     "execution_count": 411,
     "metadata": {},
     "output_type": "execute_result"
    }
   ],
   "source": [
    "df.Y.value_counts()"
   ]
  },
  {
   "cell_type": "code",
   "execution_count": 412,
   "metadata": {},
   "outputs": [],
   "source": [
    "# Split data to be used in the models\n",
    "# Create matrix of features\n",
    "X = df.drop('Y', axis = 1) # grabs everything else but 'Survived'\n",
    "# Create target variable\n",
    "y = df['Y'] # y is the column we're trying to predict"
   ]
  },
  {
   "cell_type": "code",
   "execution_count": 413,
   "metadata": {},
   "outputs": [],
   "source": [
    "# X1 and 12 "
   ]
  },
  {
   "cell_type": "code",
   "execution_count": 414,
   "metadata": {},
   "outputs": [],
   "source": [
    "cols = ['X5', 'X12', 'X13', 'X14', 'X15', 'X16', 'X17', 'X18', 'X19', 'X20', 'X21', 'X22', 'X23']\n",
    "df[cols] = df[cols].apply(pd.to_numeric, errors='coerce')"
   ]
  },
  {
   "cell_type": "code",
   "execution_count": 415,
   "metadata": {},
   "outputs": [],
   "source": [
    "cols = ['X1', 'X2', 'X3', 'X4', 'X6', 'X7', 'X8', 'X9', 'X10', 'X11']"
   ]
  },
  {
   "cell_type": "code",
   "execution_count": 416,
   "metadata": {},
   "outputs": [],
   "source": [
    "df[cols] = df[cols].apply(pd.to_numeric, errors='coerce', axis=1)"
   ]
  },
  {
   "cell_type": "code",
   "execution_count": 417,
   "metadata": {},
   "outputs": [],
   "source": [
    "df['Y'] = df['Y'].apply(pd.to_numeric, errors='coerce')"
   ]
  },
  {
   "cell_type": "code",
   "execution_count": null,
   "metadata": {},
   "outputs": [],
   "source": []
  },
  {
   "cell_type": "code",
   "execution_count": null,
   "metadata": {},
   "outputs": [],
   "source": []
  },
  {
   "cell_type": "code",
   "execution_count": 418,
   "metadata": {},
   "outputs": [],
   "source": [
    "#make more readable\n",
    "df.columns = ['credit', 'gender', 'education', 'marital_status', 'age', 'sept_status', 'aug_status', 'jul_status', 'jun_status', 'may_status', 'apr_status', \n",
    "              'sept_bill', 'aug_bill', 'jul_bill', 'jun_bill', 'may_bill', 'apr_bill',\n",
    "              'sept_pay', 'aug_pay', 'jul_pay', 'jun_pay', 'may_pay', 'apr_pay', 'default_or_not']"
   ]
  },
  {
   "cell_type": "code",
   "execution_count": 419,
   "metadata": {},
   "outputs": [
    {
     "data": {
      "text/html": [
       "<div>\n",
       "<style scoped>\n",
       "    .dataframe tbody tr th:only-of-type {\n",
       "        vertical-align: middle;\n",
       "    }\n",
       "\n",
       "    .dataframe tbody tr th {\n",
       "        vertical-align: top;\n",
       "    }\n",
       "\n",
       "    .dataframe thead th {\n",
       "        text-align: right;\n",
       "    }\n",
       "</style>\n",
       "<table border=\"1\" class=\"dataframe\">\n",
       "  <thead>\n",
       "    <tr style=\"text-align: right;\">\n",
       "      <th></th>\n",
       "      <th>credit</th>\n",
       "      <th>gender</th>\n",
       "      <th>education</th>\n",
       "      <th>marital_status</th>\n",
       "      <th>age</th>\n",
       "      <th>sept_status</th>\n",
       "      <th>aug_status</th>\n",
       "      <th>jul_status</th>\n",
       "      <th>jun_status</th>\n",
       "      <th>may_status</th>\n",
       "      <th>...</th>\n",
       "      <th>jun_bill</th>\n",
       "      <th>may_bill</th>\n",
       "      <th>apr_bill</th>\n",
       "      <th>sept_pay</th>\n",
       "      <th>aug_pay</th>\n",
       "      <th>jul_pay</th>\n",
       "      <th>jun_pay</th>\n",
       "      <th>may_pay</th>\n",
       "      <th>apr_pay</th>\n",
       "      <th>default_or_not</th>\n",
       "    </tr>\n",
       "  </thead>\n",
       "  <tbody>\n",
       "    <tr>\n",
       "      <th>28835</th>\n",
       "      <td>220000</td>\n",
       "      <td>2</td>\n",
       "      <td>1</td>\n",
       "      <td>2</td>\n",
       "      <td>36</td>\n",
       "      <td>0</td>\n",
       "      <td>0</td>\n",
       "      <td>0</td>\n",
       "      <td>0</td>\n",
       "      <td>0</td>\n",
       "      <td>...</td>\n",
       "      <td>221193</td>\n",
       "      <td>181859</td>\n",
       "      <td>184605</td>\n",
       "      <td>10000</td>\n",
       "      <td>8018</td>\n",
       "      <td>10121</td>\n",
       "      <td>6006</td>\n",
       "      <td>10987</td>\n",
       "      <td>143779</td>\n",
       "      <td>1</td>\n",
       "    </tr>\n",
       "    <tr>\n",
       "      <th>25329</th>\n",
       "      <td>200000</td>\n",
       "      <td>2</td>\n",
       "      <td>3</td>\n",
       "      <td>2</td>\n",
       "      <td>29</td>\n",
       "      <td>-1</td>\n",
       "      <td>-1</td>\n",
       "      <td>-1</td>\n",
       "      <td>-1</td>\n",
       "      <td>-1</td>\n",
       "      <td>...</td>\n",
       "      <td>326</td>\n",
       "      <td>326</td>\n",
       "      <td>326</td>\n",
       "      <td>326</td>\n",
       "      <td>326</td>\n",
       "      <td>326</td>\n",
       "      <td>326</td>\n",
       "      <td>326</td>\n",
       "      <td>326</td>\n",
       "      <td>0</td>\n",
       "    </tr>\n",
       "    <tr>\n",
       "      <th>18894</th>\n",
       "      <td>180000</td>\n",
       "      <td>2</td>\n",
       "      <td>1</td>\n",
       "      <td>2</td>\n",
       "      <td>27</td>\n",
       "      <td>-2</td>\n",
       "      <td>-2</td>\n",
       "      <td>-2</td>\n",
       "      <td>-2</td>\n",
       "      <td>-2</td>\n",
       "      <td>...</td>\n",
       "      <td>0</td>\n",
       "      <td>0</td>\n",
       "      <td>0</td>\n",
       "      <td>0</td>\n",
       "      <td>0</td>\n",
       "      <td>0</td>\n",
       "      <td>0</td>\n",
       "      <td>0</td>\n",
       "      <td>0</td>\n",
       "      <td>0</td>\n",
       "    </tr>\n",
       "    <tr>\n",
       "      <th>690</th>\n",
       "      <td>80000</td>\n",
       "      <td>1</td>\n",
       "      <td>2</td>\n",
       "      <td>2</td>\n",
       "      <td>32</td>\n",
       "      <td>0</td>\n",
       "      <td>0</td>\n",
       "      <td>0</td>\n",
       "      <td>0</td>\n",
       "      <td>0</td>\n",
       "      <td>...</td>\n",
       "      <td>43882</td>\n",
       "      <td>42256</td>\n",
       "      <td>42527</td>\n",
       "      <td>1853</td>\n",
       "      <td>1700</td>\n",
       "      <td>1522</td>\n",
       "      <td>1548</td>\n",
       "      <td>1488</td>\n",
       "      <td>1500</td>\n",
       "      <td>0</td>\n",
       "    </tr>\n",
       "    <tr>\n",
       "      <th>6239</th>\n",
       "      <td>10000</td>\n",
       "      <td>1</td>\n",
       "      <td>2</td>\n",
       "      <td>2</td>\n",
       "      <td>27</td>\n",
       "      <td>0</td>\n",
       "      <td>0</td>\n",
       "      <td>0</td>\n",
       "      <td>0</td>\n",
       "      <td>0</td>\n",
       "      <td>...</td>\n",
       "      <td>5444</td>\n",
       "      <td>2639</td>\n",
       "      <td>2697</td>\n",
       "      <td>2000</td>\n",
       "      <td>1100</td>\n",
       "      <td>600</td>\n",
       "      <td>300</td>\n",
       "      <td>300</td>\n",
       "      <td>1000</td>\n",
       "      <td>1</td>\n",
       "    </tr>\n",
       "  </tbody>\n",
       "</table>\n",
       "<p>5 rows × 24 columns</p>\n",
       "</div>"
      ],
      "text/plain": [
       "       credit  gender  education  marital_status  age  sept_status  \\\n",
       "28835  220000       2          1               2   36            0   \n",
       "25329  200000       2          3               2   29           -1   \n",
       "18894  180000       2          1               2   27           -2   \n",
       "690     80000       1          2               2   32            0   \n",
       "6239    10000       1          2               2   27            0   \n",
       "\n",
       "       aug_status  jul_status  jun_status  may_status  ...  jun_bill  \\\n",
       "28835           0           0           0           0  ...    221193   \n",
       "25329          -1          -1          -1          -1  ...       326   \n",
       "18894          -2          -2          -2          -2  ...         0   \n",
       "690             0           0           0           0  ...     43882   \n",
       "6239            0           0           0           0  ...      5444   \n",
       "\n",
       "       may_bill  apr_bill  sept_pay  aug_pay  jul_pay  jun_pay  may_pay  \\\n",
       "28835    181859    184605     10000     8018    10121     6006    10987   \n",
       "25329       326       326       326      326      326      326      326   \n",
       "18894         0         0         0        0        0        0        0   \n",
       "690       42256     42527      1853     1700     1522     1548     1488   \n",
       "6239       2639      2697      2000     1100      600      300      300   \n",
       "\n",
       "       apr_pay  default_or_not  \n",
       "28835   143779               1  \n",
       "25329      326               0  \n",
       "18894        0               0  \n",
       "690       1500               0  \n",
       "6239      1000               1  \n",
       "\n",
       "[5 rows x 24 columns]"
      ]
     },
     "execution_count": 419,
     "metadata": {},
     "output_type": "execute_result"
    }
   ],
   "source": [
    "df.head()"
   ]
  },
  {
   "cell_type": "code",
   "execution_count": 420,
   "metadata": {},
   "outputs": [
    {
     "data": {
      "text/plain": [
       "0    17471\n",
       "1     5028\n",
       "Name: default_or_not, dtype: int64"
      ]
     },
     "execution_count": 420,
     "metadata": {},
     "output_type": "execute_result"
    }
   ],
   "source": [
    "# Unbalanced data \n",
    "df.default_or_not.value_counts()"
   ]
  },
  {
   "cell_type": "markdown",
   "metadata": {},
   "source": [
    "## 2. EDA"
   ]
  },
  {
   "cell_type": "code",
   "execution_count": 421,
   "metadata": {},
   "outputs": [
    {
     "data": {
      "text/plain": [
       "credit            0\n",
       "gender            0\n",
       "education         0\n",
       "marital_status    0\n",
       "age               0\n",
       "sept_status       0\n",
       "aug_status        0\n",
       "jul_status        0\n",
       "jun_status        0\n",
       "may_status        0\n",
       "apr_status        0\n",
       "sept_bill         0\n",
       "aug_bill          0\n",
       "jul_bill          0\n",
       "jun_bill          0\n",
       "may_bill          0\n",
       "apr_bill          0\n",
       "sept_pay          0\n",
       "aug_pay           0\n",
       "jul_pay           0\n",
       "jun_pay           0\n",
       "may_pay           0\n",
       "apr_pay           0\n",
       "default_or_not    0\n",
       "dtype: int64"
      ]
     },
     "execution_count": 421,
     "metadata": {},
     "output_type": "execute_result"
    }
   ],
   "source": [
    "df.isna().sum()"
   ]
  },
  {
   "cell_type": "code",
   "execution_count": 422,
   "metadata": {},
   "outputs": [],
   "source": [
    "# Use bill amount vs credit, how much of their credit are they using? First and last.\n",
    "#df['credit_used_sept'] = df['credit']/df['sept_bill']\n",
    "#df['credit_used_apr'] = df['credit']/df['apr_bill']"
   ]
  },
  {
   "cell_type": "code",
   "execution_count": 423,
   "metadata": {},
   "outputs": [],
   "source": [
    "# amount paid / bill amout to know if they pay full amount or extra? First and last.\n",
    "#df['pay_vs_bill_sept'] = df['sept_pay']/df['aug_bill']\n",
    "#df['pay_vs_bill_apr'] = df['may_pay']/df['apr_bill']"
   ]
  },
  {
   "cell_type": "code",
   "execution_count": 577,
   "metadata": {},
   "outputs": [],
   "source": [
    "#Never defaulted make column with 1 or 0 \n",
    "df['status_past_3'] = ((df['sept_status']**2) +df['aug_status']+df['jul_status'])\n"
   ]
  },
  {
   "cell_type": "code",
   "execution_count": 578,
   "metadata": {},
   "outputs": [],
   "source": [
    "df['education']=np.where(df['education'] == 5, 4, df['education'])\n",
    "df['education']=np.where(df['education'] == 6, 4, df['education'])\n",
    "df['education']=np.where(df['education'] == 0, 4, df['education'])\n"
   ]
  },
  {
   "cell_type": "code",
   "execution_count": 579,
   "metadata": {},
   "outputs": [],
   "source": [
    "df['marital_status']=np.where(df['marital_status'] == 0, 3, df['marital_status'])"
   ]
  },
  {
   "cell_type": "code",
   "execution_count": 580,
   "metadata": {},
   "outputs": [],
   "source": [
    "features = ['gender', 'education', 'marital_status', 'credit', 'sept_pay', 'aug_pay', 'jul_pay', 'sept_bill', 'aug_bill', 'sept_status', 'aug_status', 'jul_status', 'status_past_3']"
   ]
  },
  {
   "cell_type": "code",
   "execution_count": null,
   "metadata": {},
   "outputs": [],
   "source": []
  },
  {
   "cell_type": "code",
   "execution_count": null,
   "metadata": {},
   "outputs": [],
   "source": []
  },
  {
   "cell_type": "code",
   "execution_count": 581,
   "metadata": {},
   "outputs": [],
   "source": [
    "# alpha .03"
   ]
  },
  {
   "cell_type": "code",
   "execution_count": 582,
   "metadata": {},
   "outputs": [
    {
     "data": {
      "image/png": "[encoded data removed]",
      "text/plain": [
       "<Figure size 432x288 with 1 Axes>"
      ]
     },
     "metadata": {
      "needs_background": "light"
     },
     "output_type": "display_data"
    }
   ],
   "source": [
    "sns.scatterplot(x='aug_bill', y='credit', data=df, hue='default_or_not') \n",
    "alpha=0.3"
   ]
  },
  {
   "cell_type": "code",
   "execution_count": 583,
   "metadata": {},
   "outputs": [],
   "source": [
    "# bill statement how much you spent in Sept\n",
    "# payment what you paid for the month before off set of 1 likely "
   ]
  },
  {
   "cell_type": "markdown",
   "metadata": {},
   "source": [
    "## 3. Feature Engineering"
   ]
  },
  {
   "cell_type": "code",
   "execution_count": 584,
   "metadata": {},
   "outputs": [],
   "source": [
    "# Use bill amount vs credit, how much of their credit are they using?"
   ]
  },
  {
   "cell_type": "code",
   "execution_count": 585,
   "metadata": {},
   "outputs": [],
   "source": [
    "# amount paid / bill amout to know if they pay full amount or extra?"
   ]
  },
  {
   "cell_type": "code",
   "execution_count": 586,
   "metadata": {},
   "outputs": [],
   "source": [
    "# increasing debt, if debt % gets bigger you can see they are using credit more "
   ]
  },
  {
   "cell_type": "code",
   "execution_count": 587,
   "metadata": {},
   "outputs": [],
   "source": [
    "# moving averages: take april may june #, may june july #, july aug sept #, sept oct nov #, etc how percent changes over time"
   ]
  },
  {
   "cell_type": "code",
   "execution_count": 588,
   "metadata": {},
   "outputs": [],
   "source": [
    "#plt.figure(figsize = (10,7))\n",
    "#sns.boxplot(x = 'Education', y = 'default_or_not', data = df, palette= 'GnBu_d').set_title('Default By Education')\n",
    "#plt.show()"
   ]
  },
  {
   "cell_type": "markdown",
   "metadata": {},
   "source": [
    "## 4. Feature Selection"
   ]
  },
  {
   "cell_type": "code",
   "execution_count": 589,
   "metadata": {},
   "outputs": [],
   "source": [
    "# Dummy Regressor "
   ]
  },
  {
   "cell_type": "code",
   "execution_count": 590,
   "metadata": {},
   "outputs": [],
   "source": [
    "# define targets and features\n",
    "y = df['default_or_not']\n",
    "features = ['gender', 'education', 'marital_status', 'age', 'credit', 'sept_pay', 'aug_pay', 'jul_pay', 'sept_bill', 'aug_bill', 'sept_status', 'aug_status']\n",
    "X = df.drop(columns = 'default_or_not', axis = 1)\n",
    "#X = df[features]\n"
   ]
  },
  {
   "cell_type": "code",
   "execution_count": null,
   "metadata": {},
   "outputs": [],
   "source": []
  },
  {
   "cell_type": "code",
   "execution_count": null,
   "metadata": {},
   "outputs": [],
   "source": []
  },
  {
   "cell_type": "markdown",
   "metadata": {},
   "source": [
    "## 5. Model Fitting and Hyperparameter Tuning\n",
    "KNN, Logistic Regression, Decision Tree"
   ]
  },
  {
   "cell_type": "code",
   "execution_count": 591,
   "metadata": {},
   "outputs": [],
   "source": [
    "# Logistic Regression"
   ]
  },
  {
   "cell_type": "code",
   "execution_count": 592,
   "metadata": {},
   "outputs": [],
   "source": [
    "from sklearn.preprocessing import MinMaxScaler, StandardScaler\n",
    "from sklearn.linear_model import Lasso, Ridge, LogisticRegression\n",
    "from sklearn.model_selection import train_test_split\n",
    "from sklearn.metrics import accuracy_score, f1_score, recall_score\n",
    "from sklearn.ensemble import RandomForestClassifier\n",
    "from sklearn.ensemble import BaggingClassifier, RandomForestRegressor, ExtraTreesRegressor\n",
    "from sklearn.model_selection import GridSearchCV\n",
    "import optuna\n",
    "from sklearn.ensemble import VotingClassifier"
   ]
  },
  {
   "cell_type": "code",
   "execution_count": 593,
   "metadata": {},
   "outputs": [],
   "source": [
    "X_train, X_test, y_train, y_test = train_test_split(X,y, random_state = 42, test_size = 0.2)\n",
    "LogReg = LogisticRegression(solver='liblinear',class_weight = 'balanced', max_iter = 200)\n"
   ]
  },
  {
   "cell_type": "code",
   "execution_count": 594,
   "metadata": {},
   "outputs": [],
   "source": [
    "scale = StandardScaler()\n",
    "transformed = scale.fit_transform(X_train)\n",
    "X_train = pd.DataFrame(transformed, columns = X_train.columns)"
   ]
  },
  {
   "cell_type": "code",
   "execution_count": null,
   "metadata": {},
   "outputs": [],
   "source": []
  },
  {
   "cell_type": "code",
   "execution_count": 597,
   "metadata": {},
   "outputs": [],
   "source": [
    "transformed = scale.transform(X_test)\n",
    "X_test = pd.DataFrame(transformed, columns = X_train.columns)"
   ]
  },
  {
   "cell_type": "code",
   "execution_count": 598,
   "metadata": {},
   "outputs": [],
   "source": [
    "# Logistic Regression"
   ]
  },
  {
   "cell_type": "code",
   "execution_count": 599,
   "metadata": {},
   "outputs": [],
   "source": [
    "LogReg.fit(X_train, y_train)\n",
    "y_pred = LogReg.predict(X_test)"
   ]
  },
  {
   "cell_type": "code",
   "execution_count": 600,
   "metadata": {},
   "outputs": [
    {
     "name": "stdout",
     "output_type": "stream",
     "text": [
      "F1:  0.3720751822017645\n",
      "Accuracy:  0.27244444444444443\n"
     ]
    }
   ],
   "source": [
    "print('F1: ', f1_score(y_test, y_pred))\n",
    "print('Accuracy: ', accuracy_score(y_test, y_pred))"
   ]
  },
  {
   "cell_type": "code",
   "execution_count": null,
   "metadata": {},
   "outputs": [],
   "source": []
  },
  {
   "cell_type": "code",
   "execution_count": null,
   "metadata": {},
   "outputs": [],
   "source": [
    "\n"
   ]
  },
  {
   "cell_type": "code",
   "execution_count": null,
   "metadata": {},
   "outputs": [],
   "source": []
  },
  {
   "cell_type": "code",
   "execution_count": 601,
   "metadata": {},
   "outputs": [],
   "source": [
    "LogRegLasso = LogisticRegression(penalty = 'l1', tol = 0.0001, C = 1, solver='liblinear', class_weight = 'balanced', max_iter = 300)\n",
    "\n",
    "X_train, X_test, y_train, y_test = train_test_split(X,y, random_state = 42, test_size = 0.2)\n",
    "LogRegLasso.fit(X_train, y_train)\n",
    "y_pred_lasso = LogRegLasso.predict(X_test)"
   ]
  },
  {
   "cell_type": "code",
   "execution_count": 602,
   "metadata": {},
   "outputs": [
    {
     "name": "stdout",
     "output_type": "stream",
     "text": [
      "F1:  0.5358194308145241\n",
      "Accuracy:  0.7897777777777778\n"
     ]
    }
   ],
   "source": [
    "print('F1: ', f1_score(y_test, y_pred_lasso))\n",
    "print('Accuracy: ', accuracy_score(y_test, y_pred_lasso))"
   ]
  },
  {
   "cell_type": "code",
   "execution_count": null,
   "metadata": {},
   "outputs": [],
   "source": []
  },
  {
   "cell_type": "code",
   "execution_count": null,
   "metadata": {},
   "outputs": [],
   "source": []
  },
  {
   "cell_type": "code",
   "execution_count": null,
   "metadata": {},
   "outputs": [],
   "source": []
  },
  {
   "cell_type": "code",
   "execution_count": 603,
   "metadata": {},
   "outputs": [],
   "source": [
    "from imblearn.over_sampling import SMOTE"
   ]
  },
  {
   "cell_type": "code",
   "execution_count": null,
   "metadata": {},
   "outputs": [],
   "source": []
  },
  {
   "cell_type": "code",
   "execution_count": 604,
   "metadata": {},
   "outputs": [],
   "source": [
    "sm = SMOTE(sampling_strategy = 'minority', n_jobs = -1, random_state = 42)"
   ]
  },
  {
   "cell_type": "code",
   "execution_count": 605,
   "metadata": {},
   "outputs": [],
   "source": [
    "X_train, y_train = sm.fit_sample(X_train, y_train)"
   ]
  },
  {
   "cell_type": "code",
   "execution_count": 606,
   "metadata": {},
   "outputs": [],
   "source": [
    "from sklearn.neighbors import KNeighborsClassifier"
   ]
  },
  {
   "cell_type": "code",
   "execution_count": 607,
   "metadata": {},
   "outputs": [],
   "source": [
    "knnModel = KNeighborsClassifier(n_neighbors = 3, p = 2, n_jobs = -1)"
   ]
  },
  {
   "cell_type": "code",
   "execution_count": 608,
   "metadata": {},
   "outputs": [
    {
     "data": {
      "text/plain": [
       "KNeighborsClassifier(n_jobs=-1, n_neighbors=3)"
      ]
     },
     "execution_count": 608,
     "metadata": {},
     "output_type": "execute_result"
    }
   ],
   "source": [
    "knnModel.fit(X_train, y_train)"
   ]
  },
  {
   "cell_type": "code",
   "execution_count": 609,
   "metadata": {},
   "outputs": [],
   "source": [
    "y_pred_knn = knnModel.predict(X_test)"
   ]
  },
  {
   "cell_type": "code",
   "execution_count": 610,
   "metadata": {},
   "outputs": [
    {
     "name": "stdout",
     "output_type": "stream",
     "text": [
      "F1:  0.3619047619047619\n",
      "Accuracy:  0.6128888888888889\n"
     ]
    }
   ],
   "source": [
    "print('F1: ', f1_score(y_test, y_pred_knn))\n",
    "print('Accuracy: ', accuracy_score(y_test, y_pred_knn))"
   ]
  },
  {
   "cell_type": "code",
   "execution_count": null,
   "metadata": {},
   "outputs": [],
   "source": []
  },
  {
   "cell_type": "code",
   "execution_count": 611,
   "metadata": {},
   "outputs": [],
   "source": [
    "knnModel2 = KNeighborsClassifier(n_neighbors = 82, algorithm = 'ball_tree', p = 2, n_jobs = -1)"
   ]
  },
  {
   "cell_type": "code",
   "execution_count": 612,
   "metadata": {},
   "outputs": [
    {
     "data": {
      "text/plain": [
       "KNeighborsClassifier(algorithm='ball_tree', n_jobs=-1, n_neighbors=82)"
      ]
     },
     "execution_count": 612,
     "metadata": {},
     "output_type": "execute_result"
    }
   ],
   "source": [
    "knnModel2.fit(X_train, y_train)"
   ]
  },
  {
   "cell_type": "code",
   "execution_count": 613,
   "metadata": {},
   "outputs": [],
   "source": [
    "y_pred_knn2 = knnModel2.predict(X_test)"
   ]
  },
  {
   "cell_type": "code",
   "execution_count": 614,
   "metadata": {},
   "outputs": [
    {
     "name": "stdout",
     "output_type": "stream",
     "text": [
      "F1:  0.41676234213547647\n",
      "Accuracy:  0.5484444444444444\n"
     ]
    }
   ],
   "source": [
    "print('F1: ', f1_score(y_test, y_pred_knn2))\n",
    "print('Accuracy: ', accuracy_score(y_test, y_pred_knn2))"
   ]
  },
  {
   "cell_type": "code",
   "execution_count": null,
   "metadata": {},
   "outputs": [],
   "source": []
  },
  {
   "cell_type": "code",
   "execution_count": 615,
   "metadata": {},
   "outputs": [],
   "source": [
    "rfc = RandomForestClassifier(random_state = 1, n_estimators = 300, max_depth = 5, max_features = 4, class_weight = 'balanced', criterion = 'gini')"
   ]
  },
  {
   "cell_type": "code",
   "execution_count": 616,
   "metadata": {},
   "outputs": [
    {
     "data": {
      "text/plain": [
       "RandomForestClassifier(class_weight='balanced', max_depth=5, max_features=4,\n",
       "                       n_estimators=300, random_state=1)"
      ]
     },
     "execution_count": 616,
     "metadata": {},
     "output_type": "execute_result"
    }
   ],
   "source": [
    "rfc.fit(X_train, y_train)"
   ]
  },
  {
   "cell_type": "code",
   "execution_count": 617,
   "metadata": {},
   "outputs": [],
   "source": [
    "y_pred_rfc = rfc.predict(X_test)"
   ]
  },
  {
   "cell_type": "code",
   "execution_count": 618,
   "metadata": {},
   "outputs": [
    {
     "name": "stdout",
     "output_type": "stream",
     "text": [
      "F1:  0.5314814814814814\n",
      "Accuracy:  0.7751111111111111\n"
     ]
    }
   ],
   "source": [
    "print('F1: ', f1_score(y_test, y_pred_rfc))\n",
    "print('Accuracy: ', accuracy_score(y_test, y_pred_rfc))"
   ]
  },
  {
   "cell_type": "code",
   "execution_count": null,
   "metadata": {},
   "outputs": [],
   "source": []
  },
  {
   "cell_type": "code",
   "execution_count": 619,
   "metadata": {},
   "outputs": [],
   "source": [
    "rfc2 = RandomForestClassifier(random_state = 1, class_weight = 'balanced')"
   ]
  },
  {
   "cell_type": "code",
   "execution_count": 620,
   "metadata": {},
   "outputs": [],
   "source": [
    "param_grid = {'max_depth': list(range(1,10)), \n",
    "              'n_estimators': [100, 200, 300, 500, 700, 1000], \n",
    "              'max_features': [.2, .4, .5, .75],\n",
    "              'criterion': ['gini', 'entropy']}"
   ]
  },
  {
   "cell_type": "code",
   "execution_count": 621,
   "metadata": {},
   "outputs": [],
   "source": [
    "rfc_grid = GridSearchCV(rfc2, param_grid = param_grid, cv=5, scoring='f1', verbose = 1, n_jobs = -1)"
   ]
  },
  {
   "cell_type": "code",
   "execution_count": 201,
   "metadata": {},
   "outputs": [
    {
     "name": "stdout",
     "output_type": "stream",
     "text": [
      "Fitting 5 folds for each of 432 candidates, totalling 2160 fits\n"
     ]
    },
    {
     "name": "stderr",
     "output_type": "stream",
     "text": [
      "[Parallel(n_jobs=-1)]: Using backend LokyBackend with 4 concurrent workers.\n",
      "[Parallel(n_jobs=-1)]: Done  42 tasks      | elapsed:  2.4min\n",
      "[Parallel(n_jobs=-1)]: Done 192 tasks      | elapsed: 21.9min\n",
      "[Parallel(n_jobs=-1)]: Done 442 tasks      | elapsed: 56.5min\n",
      "[Parallel(n_jobs=-1)]: Done 792 tasks      | elapsed: 108.8min\n",
      "[Parallel(n_jobs=-1)]: Done 1242 tasks      | elapsed: 179.7min\n",
      "[Parallel(n_jobs=-1)]: Done 1792 tasks      | elapsed: 259.4min\n",
      "[Parallel(n_jobs=-1)]: Done 2160 out of 2160 | elapsed: 360.1min finished\n"
     ]
    },
    {
     "data": {
      "text/plain": [
       "GridSearchCV(cv=5,\n",
       "             estimator=RandomForestClassifier(class_weight='balanced',\n",
       "                                              random_state=1),\n",
       "             n_jobs=-1,\n",
       "             param_grid={'criterion': ['gini', 'entropy'],\n",
       "                         'max_depth': [1, 2, 3, 4, 5, 6, 7, 8, 9],\n",
       "                         'max_features': [0.2, 0.4, 0.5, 0.75],\n",
       "                         'n_estimators': [100, 200, 300, 500, 700, 1000]},\n",
       "             scoring='f1', verbose=1)"
      ]
     },
     "execution_count": 201,
     "metadata": {},
     "output_type": "execute_result"
    }
   ],
   "source": [
    "rfc_grid.fit(X_train, y_train)"
   ]
  },
  {
   "cell_type": "code",
   "execution_count": 204,
   "metadata": {},
   "outputs": [
    {
     "name": "stdout",
     "output_type": "stream",
     "text": [
      "F1:  0.532639545884579\n",
      "Accuracy:  0.7804444444444445\n"
     ]
    }
   ],
   "source": [
    "print('F1: ', f1_score(y_test, y_pred_rfc))\n",
    "print('Accuracy: ', accuracy_score(y_test, y_pred_rfc))"
   ]
  },
  {
   "cell_type": "code",
   "execution_count": null,
   "metadata": {},
   "outputs": [],
   "source": []
  },
  {
   "cell_type": "code",
   "execution_count": null,
   "metadata": {},
   "outputs": [],
   "source": []
  },
  {
   "cell_type": "code",
   "execution_count": null,
   "metadata": {},
   "outputs": [],
   "source": []
  },
  {
   "cell_type": "code",
   "execution_count": null,
   "metadata": {},
   "outputs": [],
   "source": []
  },
  {
   "cell_type": "code",
   "execution_count": 502,
   "metadata": {},
   "outputs": [],
   "source": [
    "param_grid = {'max_depth': list(range(1,5)), \n",
    "              'n_estimators': [100, 200, 300, 500, 750], \n",
    "              'max_features': [.2, .4],\n",
    "              'criterion': ['gini', 'entropy']}"
   ]
  },
  {
   "cell_type": "code",
   "execution_count": 556,
   "metadata": {},
   "outputs": [],
   "source": [
    "def objective(trial): \n",
    "    rfc_max_depth = trial.suggest_int('max_depth', 1,2)\n",
    "    rfc_n_estimators = trial.suggest_int('n_estimators', 300, 400) \n",
    "    rfc_max_features = trial.suggest_loguniform('max_features', .3, .4)\n",
    "    rfc_criterion = trial.suggest_categorical('criterion', ['gini', 'entropy'])\n",
    "    \n",
    "    rfc = RandomForestClassifier(random_state = 1, max_depth = rfc_max_depth, n_estimators = rfc_n_estimators,\n",
    "                                 max_features = rfc_max_features, criterion = rfc_criterion, class_weight = 'balanced')\n",
    "    rfc.fit(X_train, y_train)\n",
    "    y_pred_optuna = rfc.predict(X_test)\n",
    "    return (1 - f1_score(y_test, y_pred_optuna))\n",
    "    "
   ]
  },
  {
   "cell_type": "code",
   "execution_count": 557,
   "metadata": {},
   "outputs": [
    {
     "name": "stderr",
     "output_type": "stream",
     "text": [
      "[I 2020-08-14 11:57:48,463] Trial 0 finished with value: 0.45437262357414443 and parameters: {'max_depth': 1, 'n_estimators': 371, 'max_features': 0.3449222688170433, 'criterion': 'gini'}. Best is trial 0 with value: 0.45437262357414443.\n",
      "[I 2020-08-14 11:57:52,969] Trial 1 finished with value: 0.45489078822412143 and parameters: {'max_depth': 1, 'n_estimators': 324, 'max_features': 0.35884108534519116, 'criterion': 'gini'}. Best is trial 0 with value: 0.45437262357414443.\n",
      "[I 2020-08-14 11:57:59,537] Trial 2 finished with value: 0.4620758483033932 and parameters: {'max_depth': 2, 'n_estimators': 338, 'max_features': 0.3123115883657784, 'criterion': 'gini'}. Best is trial 0 with value: 0.45437262357414443.\n",
      "[I 2020-08-14 11:58:03,834] Trial 3 finished with value: 0.45333964945523453 and parameters: {'max_depth': 1, 'n_estimators': 311, 'max_features': 0.32866329929133026, 'criterion': 'entropy'}. Best is trial 3 with value: 0.45333964945523453.\n",
      "[I 2020-08-14 11:58:09,043] Trial 4 finished with value: 0.45541249403910344 and parameters: {'max_depth': 1, 'n_estimators': 307, 'max_features': 0.3908663298163594, 'criterion': 'entropy'}. Best is trial 3 with value: 0.45333964945523453.\n",
      "[I 2020-08-14 11:58:15,081] Trial 5 finished with value: 0.4635364635364635 and parameters: {'max_depth': 2, 'n_estimators': 304, 'max_features': 0.31508046482527474, 'criterion': 'gini'}. Best is trial 3 with value: 0.45333964945523453.\n",
      "[I 2020-08-14 11:58:25,362] Trial 6 finished with value: 0.46180728906640034 and parameters: {'max_depth': 2, 'n_estimators': 343, 'max_features': 0.3980906829499525, 'criterion': 'entropy'}. Best is trial 3 with value: 0.45333964945523453.\n",
      "[I 2020-08-14 11:58:30,379] Trial 7 finished with value: 0.4556720686367969 and parameters: {'max_depth': 1, 'n_estimators': 333, 'max_features': 0.35247374905140477, 'criterion': 'entropy'}. Best is trial 3 with value: 0.45333964945523453.\n",
      "[I 2020-08-14 11:58:40,096] Trial 8 finished with value: 0.4649167087329632 and parameters: {'max_depth': 2, 'n_estimators': 375, 'max_features': 0.3344640981455356, 'criterion': 'entropy'}. Best is trial 3 with value: 0.45333964945523453.\n",
      "[I 2020-08-14 11:58:47,000] Trial 9 finished with value: 0.4620758483033932 and parameters: {'max_depth': 2, 'n_estimators': 328, 'max_features': 0.3234248826075308, 'criterion': 'gini'}. Best is trial 3 with value: 0.45333964945523453.\n",
      "[I 2020-08-14 11:58:52,695] Trial 10 finished with value: 0.4548022598870056 and parameters: {'max_depth': 1, 'n_estimators': 398, 'max_features': 0.30103422175054734, 'criterion': 'entropy'}. Best is trial 3 with value: 0.45333964945523453.\n",
      "[I 2020-08-14 11:58:58,156] Trial 11 finished with value: 0.4546318289786223 and parameters: {'max_depth': 1, 'n_estimators': 368, 'max_features': 0.37469694194982767, 'criterion': 'gini'}. Best is trial 3 with value: 0.45333964945523453.\n",
      "[I 2020-08-14 11:59:03,966] Trial 12 finished with value: 0.45584045584045585 and parameters: {'max_depth': 1, 'n_estimators': 367, 'max_features': 0.33930017641411714, 'criterion': 'entropy'}. Best is trial 3 with value: 0.45333964945523453.\n",
      "[I 2020-08-14 11:59:08,719] Trial 13 finished with value: 0.45368620037807184 and parameters: {'max_depth': 1, 'n_estimators': 388, 'max_features': 0.3278841022913535, 'criterion': 'gini'}. Best is trial 3 with value: 0.45333964945523453.\n",
      "[I 2020-08-14 11:59:14,051] Trial 14 finished with value: 0.4548022598870056 and parameters: {'max_depth': 1, 'n_estimators': 398, 'max_features': 0.3276495461895724, 'criterion': 'entropy'}. Best is trial 3 with value: 0.45333964945523453.\n",
      "[I 2020-08-14 11:59:18,181] Trial 15 finished with value: 0.45385707524846197 and parameters: {'max_depth': 1, 'n_estimators': 353, 'max_features': 0.30786664093369975, 'criterion': 'gini'}. Best is trial 3 with value: 0.45333964945523453.\n",
      "[I 2020-08-14 11:59:21,813] Trial 16 finished with value: 0.4554034922133082 and parameters: {'max_depth': 1, 'n_estimators': 315, 'max_features': 0.3245005804696189, 'criterion': 'gini'}. Best is trial 3 with value: 0.45333964945523453.\n",
      "[I 2020-08-14 11:59:27,400] Trial 17 finished with value: 0.4554924242424242 and parameters: {'max_depth': 1, 'n_estimators': 384, 'max_features': 0.36149736667334575, 'criterion': 'entropy'}. Best is trial 3 with value: 0.45333964945523453.\n",
      "[I 2020-08-14 11:59:32,272] Trial 18 finished with value: 0.45471787577050726 and parameters: {'max_depth': 1, 'n_estimators': 354, 'max_features': 0.3318775931793402, 'criterion': 'entropy'}. Best is trial 3 with value: 0.45333964945523453.\n",
      "[I 2020-08-14 11:59:37,126] Trial 19 finished with value: 0.45368620037807184 and parameters: {'max_depth': 1, 'n_estimators': 391, 'max_features': 0.31680218252261855, 'criterion': 'gini'}. Best is trial 3 with value: 0.45333964945523453.\n",
      "[I 2020-08-14 11:59:41,741] Trial 20 finished with value: 0.4554034922133082 and parameters: {'max_depth': 1, 'n_estimators': 315, 'max_features': 0.30385340899245233, 'criterion': 'gini'}. Best is trial 3 with value: 0.45333964945523453.\n",
      "[I 2020-08-14 11:59:46,576] Trial 21 finished with value: 0.45368620037807184 and parameters: {'max_depth': 1, 'n_estimators': 387, 'max_features': 0.3183652148720505, 'criterion': 'gini'}. Best is trial 3 with value: 0.45333964945523453.\n",
      "[I 2020-08-14 11:59:51,552] Trial 22 finished with value: 0.45368620037807184 and parameters: {'max_depth': 1, 'n_estimators': 388, 'max_features': 0.31795591835700265, 'criterion': 'gini'}. Best is trial 3 with value: 0.45333964945523453.\n",
      "[I 2020-08-14 11:59:57,411] Trial 23 finished with value: 0.45385707524846197 and parameters: {'max_depth': 1, 'n_estimators': 400, 'max_features': 0.3161073863732341, 'criterion': 'gini'}. Best is trial 3 with value: 0.45333964945523453.\n",
      "[I 2020-08-14 12:00:02,955] Trial 24 finished with value: 0.4538534728829685 and parameters: {'max_depth': 1, 'n_estimators': 381, 'max_features': 0.34071735617971616, 'criterion': 'gini'}. Best is trial 3 with value: 0.45333964945523453.\n",
      "[I 2020-08-14 12:00:07,515] Trial 25 finished with value: 0.4554034922133082 and parameters: {'max_depth': 1, 'n_estimators': 378, 'max_features': 0.3222280315622266, 'criterion': 'gini'}. Best is trial 3 with value: 0.45333964945523453.\n",
      "[I 2020-08-14 12:00:12,770] Trial 26 finished with value: 0.4545454545454547 and parameters: {'max_depth': 1, 'n_estimators': 363, 'max_features': 0.308256725389923, 'criterion': 'entropy'}. Best is trial 3 with value: 0.45333964945523453.\n",
      "[I 2020-08-14 12:00:17,098] Trial 27 finished with value: 0.4558337269721303 and parameters: {'max_depth': 1, 'n_estimators': 361, 'max_features': 0.3323171549639273, 'criterion': 'gini'}. Best is trial 3 with value: 0.45333964945523453.\n",
      "[I 2020-08-14 12:00:22,054] Trial 28 finished with value: 0.45523809523809533 and parameters: {'max_depth': 1, 'n_estimators': 388, 'max_features': 0.347967917229759, 'criterion': 'gini'}. Best is trial 3 with value: 0.45333964945523453.\n",
      "[I 2020-08-14 12:00:26,538] Trial 29 finished with value: 0.45351580934403013 and parameters: {'max_depth': 1, 'n_estimators': 346, 'max_features': 0.32088426157548233, 'criterion': 'gini'}. Best is trial 3 with value: 0.45333964945523453.\n",
      "[I 2020-08-14 12:00:31,420] Trial 30 finished with value: 0.45497856121962843 and parameters: {'max_depth': 1, 'n_estimators': 300, 'max_features': 0.3389039800500568, 'criterion': 'entropy'}. Best is trial 3 with value: 0.45333964945523453.\n",
      "[I 2020-08-14 12:00:35,829] Trial 31 finished with value: 0.45368620037807184 and parameters: {'max_depth': 1, 'n_estimators': 342, 'max_features': 0.3194495172678834, 'criterion': 'gini'}. Best is trial 3 with value: 0.45333964945523453.\n",
      "[I 2020-08-14 12:00:39,881] Trial 32 finished with value: 0.45403111739745394 and parameters: {'max_depth': 1, 'n_estimators': 347, 'max_features': 0.3086058888513286, 'criterion': 'gini'}. Best is trial 3 with value: 0.45333964945523453.\n",
      "[I 2020-08-14 12:00:43,628] Trial 33 finished with value: 0.45625587958607716 and parameters: {'max_depth': 1, 'n_estimators': 320, 'max_features': 0.31058197504699037, 'criterion': 'gini'}. Best is trial 3 with value: 0.45333964945523453.\n",
      "[I 2020-08-14 12:00:48,710] Trial 34 finished with value: 0.45368620037807184 and parameters: {'max_depth': 1, 'n_estimators': 393, 'max_features': 0.30081794843299353, 'criterion': 'gini'}. Best is trial 3 with value: 0.45333964945523453.\n",
      "[I 2020-08-14 12:00:52,733] Trial 35 finished with value: 0.4555765595463138 and parameters: {'max_depth': 1, 'n_estimators': 338, 'max_features': 0.30037905654341784, 'criterion': 'gini'}. Best is trial 3 with value: 0.45333964945523453.\n",
      "[I 2020-08-14 12:00:59,716] Trial 36 finished with value: 0.4630738522954092 and parameters: {'max_depth': 2, 'n_estimators': 374, 'max_features': 0.3153347264541918, 'criterion': 'gini'}. Best is trial 3 with value: 0.45333964945523453.\n",
      "[I 2020-08-14 12:01:03,764] Trial 37 finished with value: 0.45368620037807184 and parameters: {'max_depth': 1, 'n_estimators': 342, 'max_features': 0.30560836422538556, 'criterion': 'gini'}. Best is trial 3 with value: 0.45333964945523453.\n",
      "[I 2020-08-14 12:01:07,535] Trial 38 finished with value: 0.45403111739745394 and parameters: {'max_depth': 1, 'n_estimators': 331, 'max_features': 0.3040163405788437, 'criterion': 'gini'}. Best is trial 3 with value: 0.45333964945523453.\n",
      "[I 2020-08-14 12:01:16,321] Trial 39 finished with value: 0.46265664160401 and parameters: {'max_depth': 2, 'n_estimators': 394, 'max_features': 0.31324191937318463, 'criterion': 'entropy'}. Best is trial 3 with value: 0.45333964945523453.\n",
      "[I 2020-08-14 12:01:20,392] Trial 40 finished with value: 0.4539442607463391 and parameters: {'max_depth': 1, 'n_estimators': 358, 'max_features': 0.32574837023474745, 'criterion': 'gini'}. Best is trial 3 with value: 0.45333964945523453.\n",
      "[I 2020-08-14 12:01:24,315] Trial 41 finished with value: 0.45368620037807184 and parameters: {'max_depth': 1, 'n_estimators': 341, 'max_features': 0.3043132217529909, 'criterion': 'gini'}. Best is trial 3 with value: 0.45333964945523453.\n",
      "[I 2020-08-14 12:01:28,251] Trial 42 finished with value: 0.45403111739745394 and parameters: {'max_depth': 1, 'n_estimators': 347, 'max_features': 0.3039895965359556, 'criterion': 'gini'}. Best is trial 3 with value: 0.45333964945523453.\n",
      "[I 2020-08-14 12:01:32,048] Trial 43 finished with value: 0.45505882352941174 and parameters: {'max_depth': 1, 'n_estimators': 323, 'max_features': 0.30987879830801485, 'criterion': 'gini'}. Best is trial 3 with value: 0.45333964945523453.\n",
      "[I 2020-08-14 12:01:36,576] Trial 44 finished with value: 0.453598484848485 and parameters: {'max_depth': 1, 'n_estimators': 386, 'max_features': 0.3302160757034321, 'criterion': 'gini'}. Best is trial 3 with value: 0.45333964945523453.\n",
      "[I 2020-08-14 12:01:40,726] Trial 45 finished with value: 0.4546318289786223 and parameters: {'max_depth': 1, 'n_estimators': 338, 'max_features': 0.3439782487720405, 'criterion': 'gini'}. Best is trial 3 with value: 0.45333964945523453.\n",
      "[I 2020-08-14 12:01:45,670] Trial 46 finished with value: 0.4548035967818268 and parameters: {'max_depth': 1, 'n_estimators': 370, 'max_features': 0.32959064157133916, 'criterion': 'entropy'}. Best is trial 3 with value: 0.45333964945523453.\n",
      "[I 2020-08-14 12:01:50,544] Trial 47 finished with value: 0.4538534728829685 and parameters: {'max_depth': 1, 'n_estimators': 396, 'max_features': 0.3359317109242416, 'criterion': 'gini'}. Best is trial 3 with value: 0.45333964945523453.\n",
      "[I 2020-08-14 12:01:55,064] Trial 48 finished with value: 0.45497856121962843 and parameters: {'max_depth': 1, 'n_estimators': 309, 'max_features': 0.3530199128566995, 'criterion': 'entropy'}. Best is trial 3 with value: 0.45333964945523453.\n",
      "[I 2020-08-14 12:01:59,473] Trial 49 finished with value: 0.45368620037807184 and parameters: {'max_depth': 1, 'n_estimators': 392, 'max_features': 0.32058214531824986, 'criterion': 'gini'}. Best is trial 3 with value: 0.45333964945523453.\n",
      "[I 2020-08-14 12:02:05,607] Trial 50 finished with value: 0.4620758483033932 and parameters: {'max_depth': 2, 'n_estimators': 330, 'max_features': 0.32275398387623777, 'criterion': 'gini'}. Best is trial 3 with value: 0.45333964945523453.\n",
      "[I 2020-08-14 12:02:10,052] Trial 51 finished with value: 0.45368620037807184 and parameters: {'max_depth': 1, 'n_estimators': 393, 'max_features': 0.3190152400596497, 'criterion': 'gini'}. Best is trial 3 with value: 0.45333964945523453.\n",
      "[I 2020-08-14 12:02:14,399] Trial 52 finished with value: 0.45368620037807184 and parameters: {'max_depth': 1, 'n_estimators': 385, 'max_features': 0.3275379709331912, 'criterion': 'gini'}. Best is trial 3 with value: 0.45333964945523453.\n",
      "[I 2020-08-14 12:02:18,777] Trial 53 finished with value: 0.4553191489361702 and parameters: {'max_depth': 1, 'n_estimators': 381, 'max_features': 0.32906472846538226, 'criterion': 'gini'}. Best is trial 3 with value: 0.45333964945523453.\n",
      "[I 2020-08-14 12:02:23,726] Trial 54 finished with value: 0.4538534728829685 and parameters: {'max_depth': 1, 'n_estimators': 400, 'max_features': 0.3375202962598836, 'criterion': 'gini'}. Best is trial 3 with value: 0.45333964945523453.\n",
      "[I 2020-08-14 12:02:27,528] Trial 55 finished with value: 0.4560075685903501 and parameters: {'max_depth': 1, 'n_estimators': 334, 'max_features': 0.3127551201460336, 'criterion': 'gini'}. Best is trial 3 with value: 0.45333964945523453.\n",
      "[I 2020-08-14 12:02:32,274] Trial 56 finished with value: 0.45471787577050726 and parameters: {'max_depth': 1, 'n_estimators': 354, 'max_features': 0.3177606397835108, 'criterion': 'entropy'}. Best is trial 3 with value: 0.45333964945523453.\n",
      "[I 2020-08-14 12:02:36,216] Trial 57 finished with value: 0.45351580934403013 and parameters: {'max_depth': 1, 'n_estimators': 348, 'max_features': 0.33222224268961004, 'criterion': 'gini'}. Best is trial 3 with value: 0.45333964945523453.\n",
      "[I 2020-08-14 12:02:40,775] Trial 58 finished with value: 0.4546318289786223 and parameters: {'max_depth': 1, 'n_estimators': 365, 'max_features': 0.33438679627288886, 'criterion': 'gini'}. Best is trial 3 with value: 0.45333964945523453.\n",
      "[I 2020-08-14 12:02:45,449] Trial 59 finished with value: 0.454459203036053 and parameters: {'max_depth': 1, 'n_estimators': 349, 'max_features': 0.3314953622846342, 'criterion': 'entropy'}. Best is trial 3 with value: 0.45333964945523453.\n",
      "[I 2020-08-14 12:02:49,692] Trial 60 finished with value: 0.4554034922133082 and parameters: {'max_depth': 1, 'n_estimators': 375, 'max_features': 0.3262707677784434, 'criterion': 'gini'}. Best is trial 3 with value: 0.45333964945523453.\n",
      "[I 2020-08-14 12:02:54,090] Trial 61 finished with value: 0.45368620037807184 and parameters: {'max_depth': 1, 'n_estimators': 388, 'max_features': 0.3229599857161646, 'criterion': 'gini'}. Best is trial 3 with value: 0.45333964945523453.\n",
      "[I 2020-08-14 12:02:58,466] Trial 62 finished with value: 0.453598484848485 and parameters: {'max_depth': 1, 'n_estimators': 386, 'max_features': 0.3241113351172532, 'criterion': 'gini'}. Best is trial 3 with value: 0.45333964945523453.\n",
      "[I 2020-08-14 12:03:03,165] Trial 63 finished with value: 0.4538534728829685 and parameters: {'max_depth': 1, 'n_estimators': 383, 'max_features': 0.3431117951515843, 'criterion': 'gini'}. Best is trial 3 with value: 0.45333964945523453.\n",
      "[I 2020-08-14 12:03:07,504] Trial 64 finished with value: 0.45575011831519163 and parameters: {'max_depth': 1, 'n_estimators': 380, 'max_features': 0.33252675257198594, 'criterion': 'gini'}. Best is trial 3 with value: 0.45333964945523453.\n",
      "[I 2020-08-14 12:03:11,903] Trial 65 finished with value: 0.45368620037807184 and parameters: {'max_depth': 1, 'n_estimators': 390, 'max_features': 0.32513573500837817, 'criterion': 'gini'}. Best is trial 3 with value: 0.45333964945523453.\n",
      "[I 2020-08-14 12:03:16,234] Trial 66 finished with value: 0.453598484848485 and parameters: {'max_depth': 1, 'n_estimators': 386, 'max_features': 0.3214380337889698, 'criterion': 'gini'}. Best is trial 3 with value: 0.45333964945523453.\n",
      "[I 2020-08-14 12:03:20,525] Trial 67 finished with value: 0.4556603773584905 and parameters: {'max_depth': 1, 'n_estimators': 377, 'max_features': 0.32454305698413904, 'criterion': 'gini'}. Best is trial 3 with value: 0.45333964945523453.\n",
      "[I 2020-08-14 12:03:24,986] Trial 68 finished with value: 0.45385707524846197 and parameters: {'max_depth': 1, 'n_estimators': 397, 'max_features': 0.32039560669825456, 'criterion': 'gini'}. Best is trial 3 with value: 0.45333964945523453.\n",
      "[I 2020-08-14 12:03:30,193] Trial 69 finished with value: 0.45523809523809533 and parameters: {'max_depth': 1, 'n_estimators': 358, 'max_features': 0.3667191013395729, 'criterion': 'entropy'}. Best is trial 3 with value: 0.45333964945523453.\n",
      "[I 2020-08-14 12:03:34,869] Trial 70 finished with value: 0.45385707524846197 and parameters: {'max_depth': 1, 'n_estimators': 389, 'max_features': 0.33042717796028626, 'criterion': 'gini'}. Best is trial 3 with value: 0.45333964945523453.\n",
      "[I 2020-08-14 12:03:38,940] Trial 71 finished with value: 0.45368620037807184 and parameters: {'max_depth': 1, 'n_estimators': 351, 'max_features': 0.3158820734558181, 'criterion': 'gini'}. Best is trial 3 with value: 0.45333964945523453.\n",
      "[I 2020-08-14 12:03:42,778] Trial 72 finished with value: 0.45394112060778724 and parameters: {'max_depth': 1, 'n_estimators': 308, 'max_features': 0.3349922146686172, 'criterion': 'gini'}. Best is trial 3 with value: 0.45333964945523453.\n",
      "[I 2020-08-14 12:03:46,978] Trial 73 finished with value: 0.45368620037807184 and parameters: {'max_depth': 1, 'n_estimators': 371, 'max_features': 0.32831620340938295, 'criterion': 'gini'}. Best is trial 3 with value: 0.45333964945523453.\n",
      "[I 2020-08-14 12:03:50,919] Trial 74 finished with value: 0.45377358490566044 and parameters: {'max_depth': 1, 'n_estimators': 345, 'max_features': 0.3210400905430962, 'criterion': 'gini'}. Best is trial 3 with value: 0.45333964945523453.\n",
      "[I 2020-08-14 12:03:54,835] Trial 75 finished with value: 0.4555765595463138 and parameters: {'max_depth': 1, 'n_estimators': 335, 'max_features': 0.31256843128380013, 'criterion': 'gini'}. Best is trial 3 with value: 0.45333964945523453.\n",
      "[I 2020-08-14 12:03:59,306] Trial 76 finished with value: 0.4546318289786223 and parameters: {'max_depth': 1, 'n_estimators': 342, 'max_features': 0.34791384372429635, 'criterion': 'gini'}. Best is trial 3 with value: 0.45333964945523453.\n",
      "[I 2020-08-14 12:04:03,538] Trial 77 finished with value: 0.45385707524846197 and parameters: {'max_depth': 1, 'n_estimators': 353, 'max_features': 0.3266993408529245, 'criterion': 'gini'}. Best is trial 3 with value: 0.45333964945523453.\n",
      "[I 2020-08-14 12:04:08,489] Trial 78 finished with value: 0.453598484848485 and parameters: {'max_depth': 1, 'n_estimators': 386, 'max_features': 0.31998896195467613, 'criterion': 'gini'}. Best is trial 3 with value: 0.45333964945523453.\n",
      "[I 2020-08-14 12:04:14,227] Trial 79 finished with value: 0.4560075685903501 and parameters: {'max_depth': 1, 'n_estimators': 383, 'max_features': 0.34104636179097286, 'criterion': 'entropy'}. Best is trial 3 with value: 0.45333964945523453.\n",
      "[I 2020-08-14 12:04:17,804] Trial 80 finished with value: 0.4533459000942507 and parameters: {'max_depth': 1, 'n_estimators': 313, 'max_features': 0.3161398632579958, 'criterion': 'gini'}. Best is trial 3 with value: 0.45333964945523453.\n",
      "[I 2020-08-14 12:04:21,679] Trial 81 finished with value: 0.4533459000942507 and parameters: {'max_depth': 1, 'n_estimators': 304, 'max_features': 0.3188198320897818, 'criterion': 'gini'}. Best is trial 3 with value: 0.45333964945523453.\n",
      "[I 2020-08-14 12:04:25,489] Trial 82 finished with value: 0.4536033914272255 and parameters: {'max_depth': 1, 'n_estimators': 303, 'max_features': 0.3142133994872202, 'criterion': 'gini'}. Best is trial 3 with value: 0.45333964945523453.\n",
      "[I 2020-08-14 12:04:29,017] Trial 83 finished with value: 0.45488899385923465 and parameters: {'max_depth': 1, 'n_estimators': 310, 'max_features': 0.32272644541473605, 'criterion': 'gini'}. Best is trial 3 with value: 0.45333964945523453.\n",
      "[I 2020-08-14 12:04:32,646] Trial 84 finished with value: 0.4552309142318567 and parameters: {'max_depth': 1, 'n_estimators': 317, 'max_features': 0.31708906437027246, 'criterion': 'gini'}. Best is trial 3 with value: 0.45333964945523453.\n",
      "[I 2020-08-14 12:04:36,237] Trial 85 finished with value: 0.4554034922133082 and parameters: {'max_depth': 1, 'n_estimators': 315, 'max_features': 0.3204880688690909, 'criterion': 'gini'}. Best is trial 3 with value: 0.45333964945523453.\n",
      "[I 2020-08-14 12:04:39,665] Trial 86 finished with value: 0.45351580934403013 and parameters: {'max_depth': 1, 'n_estimators': 301, 'max_features': 0.3244153769225876, 'criterion': 'gini'}. Best is trial 3 with value: 0.45333964945523453.\n",
      "[I 2020-08-14 12:04:43,086] Trial 87 finished with value: 0.4554034922133082 and parameters: {'max_depth': 1, 'n_estimators': 300, 'max_features': 0.31086560658575046, 'criterion': 'gini'}. Best is trial 3 with value: 0.45333964945523453.\n",
      "[I 2020-08-14 12:04:47,156] Trial 88 finished with value: 0.45662535748331745 and parameters: {'max_depth': 1, 'n_estimators': 306, 'max_features': 0.3879595818034829, 'criterion': 'gini'}. Best is trial 3 with value: 0.45333964945523453.\n",
      "[I 2020-08-14 12:04:50,716] Trial 89 finished with value: 0.4536033914272255 and parameters: {'max_depth': 1, 'n_estimators': 312, 'max_features': 0.33333130037969666, 'criterion': 'gini'}. Best is trial 3 with value: 0.45333964945523453.\n",
      "[I 2020-08-14 12:04:54,858] Trial 90 finished with value: 0.45333964945523453 and parameters: {'max_depth': 1, 'n_estimators': 302, 'max_features': 0.3180923124110524, 'criterion': 'entropy'}. Best is trial 3 with value: 0.45333964945523453.\n",
      "[I 2020-08-14 12:04:58,895] Trial 91 finished with value: 0.45333964945523453 and parameters: {'max_depth': 1, 'n_estimators': 302, 'max_features': 0.3248760510127601, 'criterion': 'entropy'}. Best is trial 3 with value: 0.45333964945523453.\n",
      "[I 2020-08-14 12:05:03,020] Trial 92 finished with value: 0.45333964945523453 and parameters: {'max_depth': 1, 'n_estimators': 303, 'max_features': 0.3240871899626652, 'criterion': 'entropy'}. Best is trial 3 with value: 0.45333964945523453.\n",
      "[I 2020-08-14 12:05:07,133] Trial 93 finished with value: 0.45333964945523453 and parameters: {'max_depth': 1, 'n_estimators': 303, 'max_features': 0.32354198437341286, 'criterion': 'entropy'}. Best is trial 3 with value: 0.45333964945523453.\n",
      "[I 2020-08-14 12:05:11,226] Trial 94 finished with value: 0.45333964945523453 and parameters: {'max_depth': 1, 'n_estimators': 304, 'max_features': 0.3177291373474635, 'criterion': 'entropy'}. Best is trial 3 with value: 0.45333964945523453.\n",
      "[I 2020-08-14 12:05:15,306] Trial 95 finished with value: 0.45333964945523453 and parameters: {'max_depth': 1, 'n_estimators': 305, 'max_features': 0.31707436908728526, 'criterion': 'entropy'}. Best is trial 3 with value: 0.45333964945523453.\n",
      "[I 2020-08-14 12:05:19,405] Trial 96 finished with value: 0.45333964945523453 and parameters: {'max_depth': 1, 'n_estimators': 305, 'max_features': 0.31608603636050375, 'criterion': 'entropy'}. Best is trial 3 with value: 0.45333964945523453.\n",
      "[I 2020-08-14 12:05:23,520] Trial 97 finished with value: 0.45333964945523453 and parameters: {'max_depth': 1, 'n_estimators': 305, 'max_features': 0.3067233084420659, 'criterion': 'entropy'}. Best is trial 3 with value: 0.45333964945523453.\n",
      "[I 2020-08-14 12:05:27,586] Trial 98 finished with value: 0.45333964945523453 and parameters: {'max_depth': 1, 'n_estimators': 304, 'max_features': 0.3140706614340209, 'criterion': 'entropy'}. Best is trial 3 with value: 0.45333964945523453.\n",
      "[I 2020-08-14 12:05:31,757] Trial 99 finished with value: 0.45333964945523453 and parameters: {'max_depth': 1, 'n_estimators': 306, 'max_features': 0.3066945588396863, 'criterion': 'entropy'}. Best is trial 3 with value: 0.45333964945523453.\n"
     ]
    }
   ],
   "source": [
    "study = optuna.create_study()\n",
    "study.optimize(objective, n_trials = 100)"
   ]
  },
  {
   "cell_type": "code",
   "execution_count": null,
   "metadata": {},
   "outputs": [],
   "source": []
  },
  {
   "cell_type": "code",
   "execution_count": 622,
   "metadata": {},
   "outputs": [],
   "source": [
    "# Trials of Importance \n",
    "\n",
    "rfc_trial3 = RandomForestClassifier(random_state = 1, max_depth = 2 , n_estimators = 224,\n",
    "                                 max_features = .31556256, criterion = 'gini', class_weight = 'balanced')\n",
    "\n",
    "rfc_trial6 = RandomForestClassifier(random_state = 1, max_depth = 2 , n_estimators = 594,\n",
    "                                 max_features = .38831983448141755, criterion = 'entropy', class_weight = 'balanced')\n",
    "\n",
    "rfc_trial7 = RandomForestClassifier(random_state = 1, max_depth = 1 , n_estimators = 259,\n",
    "                                 max_features = .48588000087486216, criterion = 'entropy', class_weight = 'balanced')\n",
    "\n",
    "rfc_trial27 = RandomForestClassifier(random_state = 1, max_depth = 1 , n_estimators = 518,\n",
    "                                 max_features = .43927864018334645, criterion = 'entropy', class_weight = 'balanced')\n",
    "\n",
    "\n",
    "rfc_trial35 = RandomForestClassifier(random_state = 1, max_depth = 1 , n_estimators = 718,\n",
    "                                 max_features = .33194911328577587, criterion = 'entropy', class_weight = 'balanced')\n",
    "\n",
    "rfc_trial61 = RandomForestClassifier(random_state = 1, max_depth = 1 , n_estimators = 702,\n",
    "                                 max_features = .3052949970843152, criterion = 'entropy', class_weight = 'balanced')\n",
    "\n",
    "rfc_trial22 = RandomForestClassifier(random_state = 1, max_depth = 1 , n_estimators = 757,\n",
    "                                 max_features = .3015169866808949, criterion = 'entropy', class_weight = 'balanced')\n",
    "\n",
    "rfc_trial47 = RandomForestClassifier(random_state = 1, max_depth = 1 , n_estimators = 301,\n",
    "                                 max_features = 0.3352671283390045, criterion = 'gini', class_weight = 'balanced')\n",
    "\n",
    "rfc_trial472 = RandomForestClassifier(random_state = 1, max_depth = 1 , n_estimators = 301,\n",
    "                                 max_features = 0.3352671283390045, criterion = 'entropy', class_weight = 'balanced')"
   ]
  },
  {
   "cell_type": "code",
   "execution_count": 623,
   "metadata": {},
   "outputs": [],
   "source": [
    "rfc_trial35.fit(X_train, y_train)\n",
    "y_pred_trial35 = rfc_trial35.predict(X_test)"
   ]
  },
  {
   "cell_type": "code",
   "execution_count": 624,
   "metadata": {},
   "outputs": [
    {
     "data": {
      "text/plain": [
       "0.5213358070500926"
      ]
     },
     "execution_count": 624,
     "metadata": {},
     "output_type": "execute_result"
    }
   ],
   "source": [
    "f1_score(y_test, y_pred_trial35)"
   ]
  },
  {
   "cell_type": "code",
   "execution_count": 625,
   "metadata": {},
   "outputs": [],
   "source": [
    "rfc_trial61.fit(X_train, y_train)\n",
    "y_pred_trial61 = rfc_trial61.predict(X_test)"
   ]
  },
  {
   "cell_type": "code",
   "execution_count": 626,
   "metadata": {},
   "outputs": [
    {
     "data": {
      "text/plain": [
       "0.5213358070500926"
      ]
     },
     "execution_count": 626,
     "metadata": {},
     "output_type": "execute_result"
    }
   ],
   "source": [
    "f1_score(y_test, y_pred_trial61)"
   ]
  },
  {
   "cell_type": "code",
   "execution_count": 627,
   "metadata": {},
   "outputs": [],
   "source": [
    "rfc_trial47.fit(X_train, y_train)\n",
    "y_pred_trial47 = rfc_trial47.predict(X_test)"
   ]
  },
  {
   "cell_type": "code",
   "execution_count": 628,
   "metadata": {},
   "outputs": [
    {
     "data": {
      "text/plain": [
       "0.520891364902507"
      ]
     },
     "execution_count": 628,
     "metadata": {},
     "output_type": "execute_result"
    }
   ],
   "source": [
    "f1_score(y_test, y_pred_trial47)"
   ]
  },
  {
   "cell_type": "code",
   "execution_count": null,
   "metadata": {},
   "outputs": [],
   "source": []
  },
  {
   "cell_type": "code",
   "execution_count": null,
   "metadata": {},
   "outputs": [],
   "source": []
  },
  {
   "cell_type": "code",
   "execution_count": 464,
   "metadata": {},
   "outputs": [],
   "source": [
    "def plot_feature_importances(model):\n",
    "    n_features = X_train.shape[1]\n",
    "    plt.figure(figsize=(10,8))\n",
    "    plt.barh(range(n_features), model.feature_importances_, align='center')\n",
    "    plt.yticks(np.arange(n_features), X_train.columns.values)\n",
    "    plt.xlabel('Feature importance')\n",
    "    plt.ylabel('Feature')"
   ]
  },
  {
   "cell_type": "code",
   "execution_count": 465,
   "metadata": {},
   "outputs": [
    {
     "data": {
      "image/png": "[encoded data removed]",
      "text/plain": [
       "<Figure size 720x576 with 1 Axes>"
      ]
     },
     "metadata": {
      "needs_background": "light"
     },
     "output_type": "display_data"
    }
   ],
   "source": [
    "plot_feature_importances(rfc_trial6)"
   ]
  },
  {
   "cell_type": "code",
   "execution_count": 466,
   "metadata": {},
   "outputs": [
    {
     "data": {
      "text/plain": [
       "array([0.10915014, 0.00539072, 0.10107815, 0.        , 0.04511902,\n",
       "       0.03059672, 0.02097924, 0.00891031, 0.01264208, 0.00507778,\n",
       "       0.30055252, 0.36050332])"
      ]
     },
     "execution_count": 466,
     "metadata": {},
     "output_type": "execute_result"
    }
   ],
   "source": [
    "rfc_trial6.feature_importances_\n"
   ]
  },
  {
   "cell_type": "code",
   "execution_count": null,
   "metadata": {},
   "outputs": [],
   "source": []
  },
  {
   "cell_type": "code",
   "execution_count": 467,
   "metadata": {},
   "outputs": [
    {
     "data": {
      "image/png": "[encoded data removed]",
      "text/plain": [
       "<Figure size 720x576 with 1 Axes>"
      ]
     },
     "metadata": {
      "needs_background": "light"
     },
     "output_type": "display_data"
    }
   ],
   "source": [
    "plot_feature_importances(rfc_trial61)"
   ]
  },
  {
   "cell_type": "code",
   "execution_count": null,
   "metadata": {},
   "outputs": [],
   "source": []
  },
  {
   "cell_type": "code",
   "execution_count": null,
   "metadata": {},
   "outputs": [],
   "source": []
  },
  {
   "cell_type": "code",
   "execution_count": null,
   "metadata": {},
   "outputs": [],
   "source": []
  },
  {
   "cell_type": "code",
   "execution_count": null,
   "metadata": {},
   "outputs": [],
   "source": []
  },
  {
   "cell_type": "code",
   "execution_count": null,
   "metadata": {},
   "outputs": [],
   "source": [
    " "
   ]
  },
  {
   "cell_type": "code",
   "execution_count": 468,
   "metadata": {},
   "outputs": [],
   "source": [
    "# Voting Classifier "
   ]
  },
  {
   "cell_type": "code",
   "execution_count": 633,
   "metadata": {},
   "outputs": [],
   "source": [
    "voteBlue = VotingClassifier( estimators= [('knn', knnModel2), ('LogReg', LogReg),('decisiontree3', rfc_trial3), ('decisiontree35', rfc_trial35), ('decisiontree47', rfc_trial47), \n",
    "                                         ('decisiontree61', rfc_trial61)], voting='hard')"
   ]
  },
  {
   "cell_type": "code",
   "execution_count": 634,
   "metadata": {},
   "outputs": [],
   "source": [
    "voteBlue.fit(X_train, y_train)\n",
    "y_pred_voteBlue = voteBlue.predict(X_test)"
   ]
  },
  {
   "cell_type": "code",
   "execution_count": 635,
   "metadata": {},
   "outputs": [
    {
     "data": {
      "text/plain": [
       "0.5240541802895843"
      ]
     },
     "execution_count": 635,
     "metadata": {},
     "output_type": "execute_result"
    }
   ],
   "source": [
    "f1_score(y_test, y_pred_voteBlue)"
   ]
  },
  {
   "cell_type": "code",
   "execution_count": null,
   "metadata": {},
   "outputs": [],
   "source": []
  },
  {
   "cell_type": "code",
   "execution_count": null,
   "metadata": {},
   "outputs": [],
   "source": []
  },
  {
   "cell_type": "markdown",
   "metadata": {},
   "source": [
    "## 6. Model Evaluation"
   ]
  },
  {
   "cell_type": "code",
   "execution_count": null,
   "metadata": {},
   "outputs": [],
   "source": []
  },
  {
   "cell_type": "code",
   "execution_count": null,
   "metadata": {},
   "outputs": [],
   "source": []
  },
  {
   "cell_type": "code",
   "execution_count": null,
   "metadata": {},
   "outputs": [],
   "source": []
  },
  {
   "cell_type": "code",
   "execution_count": null,
   "metadata": {},
   "outputs": [],
   "source": []
  },
  {
   "cell_type": "code",
   "execution_count": null,
   "metadata": {},
   "outputs": [],
   "source": []
  },
  {
   "cell_type": "markdown",
   "metadata": {},
   "source": [
    "## 7. Final Model"
   ]
  },
  {
   "cell_type": "code",
   "execution_count": null,
   "metadata": {},
   "outputs": [],
   "source": [
    "# This will be ranked using the F1 score\n"
   ]
  },
  {
   "cell_type": "code",
   "execution_count": 576,
   "metadata": {},
   "outputs": [],
   "source": [
    "import pickle \n",
    "filename = 'dk_bakeoff.sav'\n",
    "filename2 = 'scaler.sav'\n",
    "filename3 = 'dk_rfc47.sav'\n",
    "pickle.dump(voteBlue, open(filename,'wb'))\n",
    "pickle.dump(rfc_trial47, open(filename3, 'wb'))\n",
    "pickle.dump(scale, open(filename2,'wb'))\n",
    "# Load the pickled model \n",
    "# knn_from_pickle = pickle.loads(saved_model) \n",
    "  \n",
    "# Use the loaded pickled model to make predictions \n",
    "# knn_from_pickle.predict(X_test) "
   ]
  },
  {
   "cell_type": "code",
   "execution_count": null,
   "metadata": {},
   "outputs": [],
   "source": []
  }
 ],
 "metadata": {
  "kernelspec": {
   "display_name": "Python 3",
   "language": "python",
   "name": "python3"
  },
  "language_info": {
   "codemirror_mode": {
    "name": "ipython",
    "version": 3
   },
   "file_extension": ".py",
   "mimetype": "text/x-python",
   "name": "python",
   "nbconvert_exporter": "python",
   "pygments_lexer": "ipython3",
   "version": "3.7.6"
  },
  "toc": {
   "base_numbering": 1,
   "nav_menu": {},
   "number_sections": true,
   "sideBar": true,
   "skip_h1_title": false,
   "title_cell": "Table of Contents",
   "title_sidebar": "Contents",
   "toc_cell": false,
   "toc_position": {},
   "toc_section_display": true,
   "toc_window_display": false
  }
 },
 "nbformat": 4,
 "nbformat_minor": 4
}
